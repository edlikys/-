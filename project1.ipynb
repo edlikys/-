{
 "cells": [
  {
   "cell_type": "markdown",
   "metadata": {},
   "source": [
    "## Исследование надёжности заёмщиков\n",
    "\n",
    "Заказчик — кредитный отдел банка. Нужно разобраться, влияет ли семейное положение и количество детей клиента на факт погашения кредита в срок. Входные данные от банка — статистика о платёжеспособности клиентов.\n",
    "\n",
    "Результаты исследования будут учтены при построении модели **кредитного скоринга** — специальной системы, которая оценивает способность потенциального заёмщика вернуть кредит банку."
   ]
  },
  {
   "cell_type": "markdown",
   "metadata": {},
   "source": [
    "## Содержание проекта:\n",
    "* 1 [Загрузка и подготовка данных](#m1)\n",
    "    * 1.1 [Чтение таблиц](#m1.1)\n",
    "    * 1.2 [Обработка пропусков](#m1.2)\n",
    "    * 1.3 [Обработка дубликатов](#m1.3)\n",
    "    * 1.4 [Лемматизация](#m1.4)\n",
    "    * 1.5 [Категоризация данных](#m1.5)\n",
    "* 2 [Ответы на вопросы](#m2)\n",
    "    * 2.1 [Зависимость между наличием детей и возвратом кредита в срок](#m2.1)\n",
    "    * 2.2 [Зависимость семейного положения и возврата кредита в срок](#m2.2)\n",
    "    * 2.3 [Зависимость между уровнем дохода и возвратом кредита в срок](#m2.3)\n",
    "    * 2.4 [Влияние цели кредита на возврат кредита в срок](#m2.4)\n",
    "* 3 [Обищй вывод](#m3)"
   ]
  },
  {
   "cell_type": "markdown",
   "metadata": {},
   "source": [
    "## Загрузка и подготовка данных <a name=\"m1\"></a>"
   ]
  },
  {
   "cell_type": "code",
   "execution_count": 50,
   "metadata": {},
   "outputs": [],
   "source": [
    "import pandas as pd\n",
    "import matplotlib.pyplot as plt"
   ]
  },
  {
   "cell_type": "code",
   "execution_count": 51,
   "metadata": {},
   "outputs": [],
   "source": [
    "from pymystem3 import Mystem \n",
    "from collections import Counter\n",
    "m = Mystem() "
   ]
  },
  {
   "cell_type": "markdown",
   "metadata": {},
   "source": [
    "### Чтение таблицы <a name=\"m1.1\"></a>"
   ]
  },
  {
   "cell_type": "code",
   "execution_count": 52,
   "metadata": {
    "scrolled": true
   },
   "outputs": [],
   "source": [
    "score_credit = pd.read_csv('df1.csv')"
   ]
  },
  {
   "cell_type": "code",
   "execution_count": 53,
   "metadata": {},
   "outputs": [
    {
     "data": {
      "text/html": [
       "<div>\n",
       "<style scoped>\n",
       "    .dataframe tbody tr th:only-of-type {\n",
       "        vertical-align: middle;\n",
       "    }\n",
       "\n",
       "    .dataframe tbody tr th {\n",
       "        vertical-align: top;\n",
       "    }\n",
       "\n",
       "    .dataframe thead th {\n",
       "        text-align: right;\n",
       "    }\n",
       "</style>\n",
       "<table border=\"1\" class=\"dataframe\">\n",
       "  <thead>\n",
       "    <tr style=\"text-align: right;\">\n",
       "      <th></th>\n",
       "      <th>children</th>\n",
       "      <th>days_employed</th>\n",
       "      <th>dob_years</th>\n",
       "      <th>education</th>\n",
       "      <th>education_id</th>\n",
       "      <th>family_status</th>\n",
       "      <th>family_status_id</th>\n",
       "      <th>gender</th>\n",
       "      <th>income_type</th>\n",
       "      <th>debt</th>\n",
       "      <th>total_income</th>\n",
       "      <th>purpose</th>\n",
       "    </tr>\n",
       "  </thead>\n",
       "  <tbody>\n",
       "    <tr>\n",
       "      <td>0</td>\n",
       "      <td>1</td>\n",
       "      <td>-8437.673028</td>\n",
       "      <td>42</td>\n",
       "      <td>высшее</td>\n",
       "      <td>0</td>\n",
       "      <td>женат / замужем</td>\n",
       "      <td>0</td>\n",
       "      <td>F</td>\n",
       "      <td>сотрудник</td>\n",
       "      <td>0</td>\n",
       "      <td>253875.639453</td>\n",
       "      <td>покупка жилья</td>\n",
       "    </tr>\n",
       "    <tr>\n",
       "      <td>1</td>\n",
       "      <td>1</td>\n",
       "      <td>-4024.803754</td>\n",
       "      <td>36</td>\n",
       "      <td>среднее</td>\n",
       "      <td>1</td>\n",
       "      <td>женат / замужем</td>\n",
       "      <td>0</td>\n",
       "      <td>F</td>\n",
       "      <td>сотрудник</td>\n",
       "      <td>0</td>\n",
       "      <td>112080.014102</td>\n",
       "      <td>приобретение автомобиля</td>\n",
       "    </tr>\n",
       "    <tr>\n",
       "      <td>2</td>\n",
       "      <td>0</td>\n",
       "      <td>-5623.422610</td>\n",
       "      <td>33</td>\n",
       "      <td>Среднее</td>\n",
       "      <td>1</td>\n",
       "      <td>женат / замужем</td>\n",
       "      <td>0</td>\n",
       "      <td>M</td>\n",
       "      <td>сотрудник</td>\n",
       "      <td>0</td>\n",
       "      <td>145885.952297</td>\n",
       "      <td>покупка жилья</td>\n",
       "    </tr>\n",
       "    <tr>\n",
       "      <td>3</td>\n",
       "      <td>3</td>\n",
       "      <td>-4124.747207</td>\n",
       "      <td>32</td>\n",
       "      <td>среднее</td>\n",
       "      <td>1</td>\n",
       "      <td>женат / замужем</td>\n",
       "      <td>0</td>\n",
       "      <td>M</td>\n",
       "      <td>сотрудник</td>\n",
       "      <td>0</td>\n",
       "      <td>267628.550329</td>\n",
       "      <td>дополнительное образование</td>\n",
       "    </tr>\n",
       "    <tr>\n",
       "      <td>4</td>\n",
       "      <td>0</td>\n",
       "      <td>340266.072047</td>\n",
       "      <td>53</td>\n",
       "      <td>среднее</td>\n",
       "      <td>1</td>\n",
       "      <td>гражданский брак</td>\n",
       "      <td>1</td>\n",
       "      <td>F</td>\n",
       "      <td>пенсионер</td>\n",
       "      <td>0</td>\n",
       "      <td>158616.077870</td>\n",
       "      <td>сыграть свадьбу</td>\n",
       "    </tr>\n",
       "    <tr>\n",
       "      <td>...</td>\n",
       "      <td>...</td>\n",
       "      <td>...</td>\n",
       "      <td>...</td>\n",
       "      <td>...</td>\n",
       "      <td>...</td>\n",
       "      <td>...</td>\n",
       "      <td>...</td>\n",
       "      <td>...</td>\n",
       "      <td>...</td>\n",
       "      <td>...</td>\n",
       "      <td>...</td>\n",
       "      <td>...</td>\n",
       "    </tr>\n",
       "    <tr>\n",
       "      <td>21520</td>\n",
       "      <td>1</td>\n",
       "      <td>-4529.316663</td>\n",
       "      <td>43</td>\n",
       "      <td>среднее</td>\n",
       "      <td>1</td>\n",
       "      <td>гражданский брак</td>\n",
       "      <td>1</td>\n",
       "      <td>F</td>\n",
       "      <td>компаньон</td>\n",
       "      <td>0</td>\n",
       "      <td>224791.862382</td>\n",
       "      <td>операции с жильем</td>\n",
       "    </tr>\n",
       "    <tr>\n",
       "      <td>21521</td>\n",
       "      <td>0</td>\n",
       "      <td>343937.404131</td>\n",
       "      <td>67</td>\n",
       "      <td>среднее</td>\n",
       "      <td>1</td>\n",
       "      <td>женат / замужем</td>\n",
       "      <td>0</td>\n",
       "      <td>F</td>\n",
       "      <td>пенсионер</td>\n",
       "      <td>0</td>\n",
       "      <td>155999.806512</td>\n",
       "      <td>сделка с автомобилем</td>\n",
       "    </tr>\n",
       "    <tr>\n",
       "      <td>21522</td>\n",
       "      <td>1</td>\n",
       "      <td>-2113.346888</td>\n",
       "      <td>38</td>\n",
       "      <td>среднее</td>\n",
       "      <td>1</td>\n",
       "      <td>гражданский брак</td>\n",
       "      <td>1</td>\n",
       "      <td>M</td>\n",
       "      <td>сотрудник</td>\n",
       "      <td>1</td>\n",
       "      <td>89672.561153</td>\n",
       "      <td>недвижимость</td>\n",
       "    </tr>\n",
       "    <tr>\n",
       "      <td>21523</td>\n",
       "      <td>3</td>\n",
       "      <td>-3112.481705</td>\n",
       "      <td>38</td>\n",
       "      <td>среднее</td>\n",
       "      <td>1</td>\n",
       "      <td>женат / замужем</td>\n",
       "      <td>0</td>\n",
       "      <td>M</td>\n",
       "      <td>сотрудник</td>\n",
       "      <td>1</td>\n",
       "      <td>244093.050500</td>\n",
       "      <td>на покупку своего автомобиля</td>\n",
       "    </tr>\n",
       "    <tr>\n",
       "      <td>21524</td>\n",
       "      <td>2</td>\n",
       "      <td>-1984.507589</td>\n",
       "      <td>40</td>\n",
       "      <td>среднее</td>\n",
       "      <td>1</td>\n",
       "      <td>женат / замужем</td>\n",
       "      <td>0</td>\n",
       "      <td>F</td>\n",
       "      <td>сотрудник</td>\n",
       "      <td>0</td>\n",
       "      <td>82047.418899</td>\n",
       "      <td>на покупку автомобиля</td>\n",
       "    </tr>\n",
       "  </tbody>\n",
       "</table>\n",
       "<p>21525 rows × 12 columns</p>\n",
       "</div>"
      ],
      "text/plain": [
       "       children  days_employed  dob_years education  education_id  \\\n",
       "0             1   -8437.673028         42    высшее             0   \n",
       "1             1   -4024.803754         36   среднее             1   \n",
       "2             0   -5623.422610         33   Среднее             1   \n",
       "3             3   -4124.747207         32   среднее             1   \n",
       "4             0  340266.072047         53   среднее             1   \n",
       "...         ...            ...        ...       ...           ...   \n",
       "21520         1   -4529.316663         43   среднее             1   \n",
       "21521         0  343937.404131         67   среднее             1   \n",
       "21522         1   -2113.346888         38   среднее             1   \n",
       "21523         3   -3112.481705         38   среднее             1   \n",
       "21524         2   -1984.507589         40   среднее             1   \n",
       "\n",
       "          family_status  family_status_id gender income_type  debt  \\\n",
       "0       женат / замужем                 0      F   сотрудник     0   \n",
       "1       женат / замужем                 0      F   сотрудник     0   \n",
       "2       женат / замужем                 0      M   сотрудник     0   \n",
       "3       женат / замужем                 0      M   сотрудник     0   \n",
       "4      гражданский брак                 1      F   пенсионер     0   \n",
       "...                 ...               ...    ...         ...   ...   \n",
       "21520  гражданский брак                 1      F   компаньон     0   \n",
       "21521   женат / замужем                 0      F   пенсионер     0   \n",
       "21522  гражданский брак                 1      M   сотрудник     1   \n",
       "21523   женат / замужем                 0      M   сотрудник     1   \n",
       "21524   женат / замужем                 0      F   сотрудник     0   \n",
       "\n",
       "        total_income                       purpose  \n",
       "0      253875.639453                 покупка жилья  \n",
       "1      112080.014102       приобретение автомобиля  \n",
       "2      145885.952297                 покупка жилья  \n",
       "3      267628.550329    дополнительное образование  \n",
       "4      158616.077870               сыграть свадьбу  \n",
       "...              ...                           ...  \n",
       "21520  224791.862382             операции с жильем  \n",
       "21521  155999.806512          сделка с автомобилем  \n",
       "21522   89672.561153                  недвижимость  \n",
       "21523  244093.050500  на покупку своего автомобиля  \n",
       "21524   82047.418899         на покупку автомобиля  \n",
       "\n",
       "[21525 rows x 12 columns]"
      ]
     },
     "execution_count": 53,
     "metadata": {},
     "output_type": "execute_result"
    }
   ],
   "source": [
    "score_credit"
   ]
  },
  {
   "cell_type": "markdown",
   "metadata": {},
   "source": [
    "**Описание данных:**\n",
    "* children — количество детей в семье\n",
    "* days_employed — общий трудовой стаж в днях\n",
    "* dob_years — возраст клиента в годах\n",
    "* education — уровень образования клиента\n",
    "* education_id — идентификатор уровня образования\n",
    "* family_status — семейное положение\n",
    "* family_status_id — идентификатор семейного положения\n",
    "* gender — пол клиента\n",
    "* income_type — тип занятости\n",
    "* debt — имел ли задолженность по возврату кредитов\n",
    "* total_income — ежемесячный доход\n",
    "* purpose — цель получения кредита"
   ]
  },
  {
   "cell_type": "code",
   "execution_count": 54,
   "metadata": {},
   "outputs": [
    {
     "name": "stdout",
     "output_type": "stream",
     "text": [
      "<class 'pandas.core.frame.DataFrame'>\n",
      "RangeIndex: 21525 entries, 0 to 21524\n",
      "Data columns (total 12 columns):\n",
      "children            21525 non-null int64\n",
      "days_employed       19351 non-null float64\n",
      "dob_years           21525 non-null int64\n",
      "education           21525 non-null object\n",
      "education_id        21525 non-null int64\n",
      "family_status       21525 non-null object\n",
      "family_status_id    21525 non-null int64\n",
      "gender              21525 non-null object\n",
      "income_type         21525 non-null object\n",
      "debt                21525 non-null int64\n",
      "total_income        19351 non-null float64\n",
      "purpose             21525 non-null object\n",
      "dtypes: float64(2), int64(5), object(5)\n",
      "memory usage: 2.0+ MB\n"
     ]
    }
   ],
   "source": [
    "score_credit.info()"
   ]
  },
  {
   "cell_type": "markdown",
   "metadata": {},
   "source": [
    "Таблица содержит некорректные значения в столбцах days_employed, а также повторения одной и той же цели разными словами в purpose. В столбце education замечено написание с заглавной буквы на фоне слов нижнего регистра. Нужно изучить каждый столбце на пустые значения, повторения, нули и понять важен столбец или нет, возможно его можно просто удалить без потери качества анализа данных."
   ]
  },
  {
   "cell_type": "markdown",
   "metadata": {},
   "source": [
    "### Обработка пропусков <a name=\"m1.2\"></a>"
   ]
  },
  {
   "cell_type": "code",
   "execution_count": 55,
   "metadata": {},
   "outputs": [
    {
     "data": {
      "text/plain": [
       "children               0\n",
       "days_employed       2174\n",
       "dob_years              0\n",
       "education              0\n",
       "education_id           0\n",
       "family_status          0\n",
       "family_status_id       0\n",
       "gender                 0\n",
       "income_type            0\n",
       "debt                   0\n",
       "total_income        2174\n",
       "purpose                0\n",
       "dtype: int64"
      ]
     },
     "execution_count": 55,
     "metadata": {},
     "output_type": "execute_result"
    }
   ],
   "source": [
    "score_credit.isnull().sum()"
   ]
  },
  {
   "cell_type": "code",
   "execution_count": 56,
   "metadata": {
    "scrolled": true
   },
   "outputs": [
    {
     "data": {
      "text/plain": [
       "35    617\n",
       "40    609\n",
       "41    607\n",
       "34    603\n",
       "38    598\n",
       "42    597\n",
       "33    581\n",
       "39    573\n",
       "31    560\n",
       "36    555\n",
       "44    547\n",
       "29    545\n",
       "30    540\n",
       "48    538\n",
       "37    537\n",
       "50    514\n",
       "43    513\n",
       "32    510\n",
       "49    508\n",
       "28    503\n",
       "45    497\n",
       "27    493\n",
       "56    487\n",
       "52    484\n",
       "47    480\n",
       "54    479\n",
       "46    475\n",
       "58    461\n",
       "57    460\n",
       "53    459\n",
       "51    448\n",
       "59    444\n",
       "55    443\n",
       "26    408\n",
       "60    377\n",
       "25    357\n",
       "61    355\n",
       "62    352\n",
       "63    269\n",
       "64    265\n",
       "24    264\n",
       "23    254\n",
       "65    194\n",
       "66    183\n",
       "22    183\n",
       "67    167\n",
       "21    111\n",
       "0     101\n",
       "68     99\n",
       "69     85\n",
       "70     65\n",
       "71     58\n",
       "20     51\n",
       "72     33\n",
       "19     14\n",
       "73      8\n",
       "74      6\n",
       "75      1\n",
       "Name: dob_years, dtype: int64"
      ]
     },
     "execution_count": 56,
     "metadata": {},
     "output_type": "execute_result"
    }
   ],
   "source": [
    "score_credit['dob_years'].value_counts() "
   ]
  },
  {
   "cell_type": "code",
   "execution_count": 57,
   "metadata": {},
   "outputs": [
    {
     "data": {
      "text/plain": [
       " 0     14149\n",
       " 1      4818\n",
       " 2      2055\n",
       " 3       330\n",
       " 20       76\n",
       "-1        47\n",
       " 4        41\n",
       " 5         9\n",
       "Name: children, dtype: int64"
      ]
     },
     "execution_count": 57,
     "metadata": {},
     "output_type": "execute_result"
    }
   ],
   "source": [
    "score_credit['children'].value_counts() "
   ]
  },
  {
   "cell_type": "markdown",
   "metadata": {},
   "source": [
    "Пропуски замечены в столбце days_employed (рабочий стаж в днях) и total_income (ежемесячная зарплата). В столбце dob_years найден возраст \"0\". В столбце children найдено показатели детей в количестве -1 и в количестве 20.\n",
    "Природа ошибок в children как по мне существует несколько: \n",
    "1. 20 может быть как опечатка числа 2 или как опечатка числа 0\n",
    "2. 20 может быть обозначением многодетных семей, если учитывать усыновленных, однако 20 встречается также и у людей, кому всего-то 24 года.\n",
    "3. -1 может быть как отрицательным ответом на наличие детей\n",
    "4. -1 может быть ошибкой при заполнении таблицы и должно означать 1 ребенок.\n",
    "\n",
    "Природа ошибок в dob_years может быть связана с ошибкой заполнения данных в столбце."
   ]
  },
  {
   "cell_type": "markdown",
   "metadata": {},
   "source": [
    "Так как столбец о днях стажа, id семейного статуса и id образования никак не влияют на изучение данных в таблице, мной принято решение удалить столбцы. "
   ]
  },
  {
   "cell_type": "code",
   "execution_count": 58,
   "metadata": {},
   "outputs": [],
   "source": [
    "del score_credit['days_employed']\n",
    "del score_credit['education_id']\n",
    "del score_credit['family_status_id']"
   ]
  },
  {
   "cell_type": "code",
   "execution_count": 59,
   "metadata": {},
   "outputs": [
    {
     "data": {
      "text/html": [
       "<div>\n",
       "<style scoped>\n",
       "    .dataframe tbody tr th:only-of-type {\n",
       "        vertical-align: middle;\n",
       "    }\n",
       "\n",
       "    .dataframe tbody tr th {\n",
       "        vertical-align: top;\n",
       "    }\n",
       "\n",
       "    .dataframe thead th {\n",
       "        text-align: right;\n",
       "    }\n",
       "</style>\n",
       "<table border=\"1\" class=\"dataframe\">\n",
       "  <thead>\n",
       "    <tr style=\"text-align: right;\">\n",
       "      <th></th>\n",
       "      <th>children</th>\n",
       "      <th>dob_years</th>\n",
       "      <th>education</th>\n",
       "      <th>family_status</th>\n",
       "      <th>gender</th>\n",
       "      <th>income_type</th>\n",
       "      <th>debt</th>\n",
       "      <th>total_income</th>\n",
       "      <th>purpose</th>\n",
       "    </tr>\n",
       "  </thead>\n",
       "  <tbody>\n",
       "    <tr>\n",
       "      <td>0</td>\n",
       "      <td>1</td>\n",
       "      <td>42</td>\n",
       "      <td>высшее</td>\n",
       "      <td>женат / замужем</td>\n",
       "      <td>F</td>\n",
       "      <td>сотрудник</td>\n",
       "      <td>0</td>\n",
       "      <td>253875.639453</td>\n",
       "      <td>покупка жилья</td>\n",
       "    </tr>\n",
       "    <tr>\n",
       "      <td>1</td>\n",
       "      <td>1</td>\n",
       "      <td>36</td>\n",
       "      <td>среднее</td>\n",
       "      <td>женат / замужем</td>\n",
       "      <td>F</td>\n",
       "      <td>сотрудник</td>\n",
       "      <td>0</td>\n",
       "      <td>112080.014102</td>\n",
       "      <td>приобретение автомобиля</td>\n",
       "    </tr>\n",
       "    <tr>\n",
       "      <td>2</td>\n",
       "      <td>0</td>\n",
       "      <td>33</td>\n",
       "      <td>Среднее</td>\n",
       "      <td>женат / замужем</td>\n",
       "      <td>M</td>\n",
       "      <td>сотрудник</td>\n",
       "      <td>0</td>\n",
       "      <td>145885.952297</td>\n",
       "      <td>покупка жилья</td>\n",
       "    </tr>\n",
       "    <tr>\n",
       "      <td>3</td>\n",
       "      <td>3</td>\n",
       "      <td>32</td>\n",
       "      <td>среднее</td>\n",
       "      <td>женат / замужем</td>\n",
       "      <td>M</td>\n",
       "      <td>сотрудник</td>\n",
       "      <td>0</td>\n",
       "      <td>267628.550329</td>\n",
       "      <td>дополнительное образование</td>\n",
       "    </tr>\n",
       "    <tr>\n",
       "      <td>4</td>\n",
       "      <td>0</td>\n",
       "      <td>53</td>\n",
       "      <td>среднее</td>\n",
       "      <td>гражданский брак</td>\n",
       "      <td>F</td>\n",
       "      <td>пенсионер</td>\n",
       "      <td>0</td>\n",
       "      <td>158616.077870</td>\n",
       "      <td>сыграть свадьбу</td>\n",
       "    </tr>\n",
       "  </tbody>\n",
       "</table>\n",
       "</div>"
      ],
      "text/plain": [
       "   children  dob_years education     family_status gender income_type  debt  \\\n",
       "0         1         42    высшее   женат / замужем      F   сотрудник     0   \n",
       "1         1         36   среднее   женат / замужем      F   сотрудник     0   \n",
       "2         0         33   Среднее   женат / замужем      M   сотрудник     0   \n",
       "3         3         32   среднее   женат / замужем      M   сотрудник     0   \n",
       "4         0         53   среднее  гражданский брак      F   пенсионер     0   \n",
       "\n",
       "    total_income                     purpose  \n",
       "0  253875.639453               покупка жилья  \n",
       "1  112080.014102     приобретение автомобиля  \n",
       "2  145885.952297               покупка жилья  \n",
       "3  267628.550329  дополнительное образование  \n",
       "4  158616.077870             сыграть свадьбу  "
      ]
     },
     "execution_count": 59,
     "metadata": {},
     "output_type": "execute_result"
    }
   ],
   "source": [
    "score_credit.head()"
   ]
  },
  {
   "cell_type": "code",
   "execution_count": 60,
   "metadata": {
    "scrolled": true
   },
   "outputs": [
    {
     "data": {
      "text/plain": [
       "43.29337979094077"
      ]
     },
     "execution_count": 60,
     "metadata": {},
     "output_type": "execute_result"
    }
   ],
   "source": [
    "years_mean = score_credit['dob_years'].mean() \n",
    "years_mean"
   ]
  },
  {
   "cell_type": "markdown",
   "metadata": {},
   "source": [
    "Ставить средний возраст в пропуски мне показалось неправильным, ведь пропуски могут быть и у пенсионеров, а средний возраст 43 не относится к пенсионному. Поэтому все строки со значением 0 удаляем. Также удаляем строки, где 20 днетей или -1 ребенок."
   ]
  },
  {
   "cell_type": "code",
   "execution_count": 61,
   "metadata": {},
   "outputs": [],
   "source": [
    "before = len(score_credit)\n",
    "# количество строк до удаления"
   ]
  },
  {
   "cell_type": "code",
   "execution_count": 62,
   "metadata": {},
   "outputs": [
    {
     "data": {
      "text/html": [
       "<div>\n",
       "<style scoped>\n",
       "    .dataframe tbody tr th:only-of-type {\n",
       "        vertical-align: middle;\n",
       "    }\n",
       "\n",
       "    .dataframe tbody tr th {\n",
       "        vertical-align: top;\n",
       "    }\n",
       "\n",
       "    .dataframe thead th {\n",
       "        text-align: right;\n",
       "    }\n",
       "</style>\n",
       "<table border=\"1\" class=\"dataframe\">\n",
       "  <thead>\n",
       "    <tr style=\"text-align: right;\">\n",
       "      <th></th>\n",
       "      <th>children</th>\n",
       "      <th>dob_years</th>\n",
       "      <th>education</th>\n",
       "      <th>family_status</th>\n",
       "      <th>gender</th>\n",
       "      <th>income_type</th>\n",
       "      <th>debt</th>\n",
       "      <th>total_income</th>\n",
       "      <th>purpose</th>\n",
       "    </tr>\n",
       "  </thead>\n",
       "  <tbody>\n",
       "    <tr>\n",
       "      <td>0</td>\n",
       "      <td>1</td>\n",
       "      <td>42</td>\n",
       "      <td>высшее</td>\n",
       "      <td>женат / замужем</td>\n",
       "      <td>F</td>\n",
       "      <td>сотрудник</td>\n",
       "      <td>0</td>\n",
       "      <td>253875.639453</td>\n",
       "      <td>покупка жилья</td>\n",
       "    </tr>\n",
       "    <tr>\n",
       "      <td>1</td>\n",
       "      <td>1</td>\n",
       "      <td>36</td>\n",
       "      <td>среднее</td>\n",
       "      <td>женат / замужем</td>\n",
       "      <td>F</td>\n",
       "      <td>сотрудник</td>\n",
       "      <td>0</td>\n",
       "      <td>112080.014102</td>\n",
       "      <td>приобретение автомобиля</td>\n",
       "    </tr>\n",
       "    <tr>\n",
       "      <td>2</td>\n",
       "      <td>0</td>\n",
       "      <td>33</td>\n",
       "      <td>Среднее</td>\n",
       "      <td>женат / замужем</td>\n",
       "      <td>M</td>\n",
       "      <td>сотрудник</td>\n",
       "      <td>0</td>\n",
       "      <td>145885.952297</td>\n",
       "      <td>покупка жилья</td>\n",
       "    </tr>\n",
       "    <tr>\n",
       "      <td>3</td>\n",
       "      <td>3</td>\n",
       "      <td>32</td>\n",
       "      <td>среднее</td>\n",
       "      <td>женат / замужем</td>\n",
       "      <td>M</td>\n",
       "      <td>сотрудник</td>\n",
       "      <td>0</td>\n",
       "      <td>267628.550329</td>\n",
       "      <td>дополнительное образование</td>\n",
       "    </tr>\n",
       "    <tr>\n",
       "      <td>4</td>\n",
       "      <td>0</td>\n",
       "      <td>53</td>\n",
       "      <td>среднее</td>\n",
       "      <td>гражданский брак</td>\n",
       "      <td>F</td>\n",
       "      <td>пенсионер</td>\n",
       "      <td>0</td>\n",
       "      <td>158616.077870</td>\n",
       "      <td>сыграть свадьбу</td>\n",
       "    </tr>\n",
       "    <tr>\n",
       "      <td>...</td>\n",
       "      <td>...</td>\n",
       "      <td>...</td>\n",
       "      <td>...</td>\n",
       "      <td>...</td>\n",
       "      <td>...</td>\n",
       "      <td>...</td>\n",
       "      <td>...</td>\n",
       "      <td>...</td>\n",
       "      <td>...</td>\n",
       "    </tr>\n",
       "    <tr>\n",
       "      <td>21297</td>\n",
       "      <td>1</td>\n",
       "      <td>43</td>\n",
       "      <td>среднее</td>\n",
       "      <td>гражданский брак</td>\n",
       "      <td>F</td>\n",
       "      <td>компаньон</td>\n",
       "      <td>0</td>\n",
       "      <td>224791.862382</td>\n",
       "      <td>операции с жильем</td>\n",
       "    </tr>\n",
       "    <tr>\n",
       "      <td>21298</td>\n",
       "      <td>0</td>\n",
       "      <td>67</td>\n",
       "      <td>среднее</td>\n",
       "      <td>женат / замужем</td>\n",
       "      <td>F</td>\n",
       "      <td>пенсионер</td>\n",
       "      <td>0</td>\n",
       "      <td>155999.806512</td>\n",
       "      <td>сделка с автомобилем</td>\n",
       "    </tr>\n",
       "    <tr>\n",
       "      <td>21299</td>\n",
       "      <td>1</td>\n",
       "      <td>38</td>\n",
       "      <td>среднее</td>\n",
       "      <td>гражданский брак</td>\n",
       "      <td>M</td>\n",
       "      <td>сотрудник</td>\n",
       "      <td>1</td>\n",
       "      <td>89672.561153</td>\n",
       "      <td>недвижимость</td>\n",
       "    </tr>\n",
       "    <tr>\n",
       "      <td>21300</td>\n",
       "      <td>3</td>\n",
       "      <td>38</td>\n",
       "      <td>среднее</td>\n",
       "      <td>женат / замужем</td>\n",
       "      <td>M</td>\n",
       "      <td>сотрудник</td>\n",
       "      <td>1</td>\n",
       "      <td>244093.050500</td>\n",
       "      <td>на покупку своего автомобиля</td>\n",
       "    </tr>\n",
       "    <tr>\n",
       "      <td>21301</td>\n",
       "      <td>2</td>\n",
       "      <td>40</td>\n",
       "      <td>среднее</td>\n",
       "      <td>женат / замужем</td>\n",
       "      <td>F</td>\n",
       "      <td>сотрудник</td>\n",
       "      <td>0</td>\n",
       "      <td>82047.418899</td>\n",
       "      <td>на покупку автомобиля</td>\n",
       "    </tr>\n",
       "  </tbody>\n",
       "</table>\n",
       "<p>21302 rows × 9 columns</p>\n",
       "</div>"
      ],
      "text/plain": [
       "       children  dob_years education     family_status gender income_type  \\\n",
       "0             1         42    высшее   женат / замужем      F   сотрудник   \n",
       "1             1         36   среднее   женат / замужем      F   сотрудник   \n",
       "2             0         33   Среднее   женат / замужем      M   сотрудник   \n",
       "3             3         32   среднее   женат / замужем      M   сотрудник   \n",
       "4             0         53   среднее  гражданский брак      F   пенсионер   \n",
       "...         ...        ...       ...               ...    ...         ...   \n",
       "21297         1         43   среднее  гражданский брак      F   компаньон   \n",
       "21298         0         67   среднее   женат / замужем      F   пенсионер   \n",
       "21299         1         38   среднее  гражданский брак      M   сотрудник   \n",
       "21300         3         38   среднее   женат / замужем      M   сотрудник   \n",
       "21301         2         40   среднее   женат / замужем      F   сотрудник   \n",
       "\n",
       "       debt   total_income                       purpose  \n",
       "0         0  253875.639453                 покупка жилья  \n",
       "1         0  112080.014102       приобретение автомобиля  \n",
       "2         0  145885.952297                 покупка жилья  \n",
       "3         0  267628.550329    дополнительное образование  \n",
       "4         0  158616.077870               сыграть свадьбу  \n",
       "...     ...            ...                           ...  \n",
       "21297     0  224791.862382             операции с жильем  \n",
       "21298     0  155999.806512          сделка с автомобилем  \n",
       "21299     1   89672.561153                  недвижимость  \n",
       "21300     1  244093.050500  на покупку своего автомобиля  \n",
       "21301     0   82047.418899         на покупку автомобиля  \n",
       "\n",
       "[21302 rows x 9 columns]"
      ]
     },
     "execution_count": 62,
     "metadata": {},
     "output_type": "execute_result"
    }
   ],
   "source": [
    "score_credit = score_credit[score_credit['dob_years'] != 0].reset_index(drop=True)\n",
    "score_credit = score_credit[score_credit['children'] != 20].reset_index(drop=True)\n",
    "score_credit = score_credit[score_credit['children'] != -1].reset_index(drop=True)\n",
    "after = len(score_credit)\n",
    "# количество строк после удаления\n",
    "score_credit"
   ]
  },
  {
   "cell_type": "code",
   "execution_count": 63,
   "metadata": {},
   "outputs": [
    {
     "name": "stdout",
     "output_type": "stream",
     "text": [
      "Процент оставшихся строк: 98.96%\n"
     ]
    }
   ],
   "source": [
    "print('Процент оставшихся строк: {:.2%}'\\\n",
    "            .format(after / before))"
   ]
  },
  {
   "cell_type": "code",
   "execution_count": 64,
   "metadata": {},
   "outputs": [
    {
     "data": {
      "text/plain": [
       "142594    1096\n",
       "172491     502\n",
       "118497     408\n",
       "150475     148\n",
       "138071       3\n",
       "          ... \n",
       "74734        1\n",
       "131711       1\n",
       "144364       1\n",
       "101355       1\n",
       "264193       1\n",
       "Name: total_income, Length: 18423, dtype: int64"
      ]
     },
     "execution_count": 64,
     "metadata": {},
     "output_type": "execute_result"
    }
   ],
   "source": [
    "score_credit['total_income'] = score_credit['total_income'] \\\n",
    "                               .fillna(score_credit.groupby('income_type')['total_income'].transform('median'))\n",
    "# группировка по виду занятости и нахождение медианного значения, замена пропусков на медианное значение относительно виду занятости\n",
    "score_credit['total_income'] = score_credit['total_income'].astype('int')\n",
    "# переводим столбец в тип int, так как после изменения он принл тип float\n",
    "score_credit['total_income'].value_counts()"
   ]
  },
  {
   "cell_type": "markdown",
   "metadata": {},
   "source": [
    "В столбце total_income для заполнение пустых ячеек используется медианное значение заработной платы относительно вида занятости. Для перевода в int из float был использован метод astype(), благодаря которому можно передать нужный тип данных для замены."
   ]
  },
  {
   "cell_type": "markdown",
   "metadata": {},
   "source": [
    "### Обработка дубликатов <a name=\"m1.3\"></a>"
   ]
  },
  {
   "cell_type": "markdown",
   "metadata": {},
   "source": [
    "Перед удалением дубликатов приведем написание данных некоторых столбцов в нужную форму."
   ]
  },
  {
   "cell_type": "code",
   "execution_count": 65,
   "metadata": {},
   "outputs": [
    {
     "data": {
      "text/plain": [
       "среднее                13609\n",
       "высшее                  4666\n",
       "СРЕДНЕЕ                  764\n",
       "Среднее                  700\n",
       "неоконченное высшее      663\n",
       "ВЫСШЕЕ                   270\n",
       "Высшее                   266\n",
       "начальное                250\n",
       "Неоконченное высшее       47\n",
       "НЕОКОНЧЕННОЕ ВЫСШЕЕ       29\n",
       "НАЧАЛЬНОЕ                 17\n",
       "Начальное                 15\n",
       "ученая степень             4\n",
       "Ученая степень             1\n",
       "УЧЕНАЯ СТЕПЕНЬ             1\n",
       "Name: education, dtype: int64"
      ]
     },
     "execution_count": 65,
     "metadata": {},
     "output_type": "execute_result"
    }
   ],
   "source": [
    "score_credit['education'].value_counts()"
   ]
  },
  {
   "cell_type": "markdown",
   "metadata": {},
   "source": [
    "Названия имеют дубликаты из-за специфики написания. высшее, ВЫСШЕЕ, Высшее, как пример. Изменим эту ситуацию, сделав у каждого написания одинаковый регистр."
   ]
  },
  {
   "cell_type": "code",
   "execution_count": 66,
   "metadata": {},
   "outputs": [
    {
     "data": {
      "text/plain": [
       "среднее                15073\n",
       "высшее                  5202\n",
       "неоконченное высшее      739\n",
       "начальное                282\n",
       "ученая степень             6\n",
       "Name: education, dtype: int64"
      ]
     },
     "execution_count": 66,
     "metadata": {},
     "output_type": "execute_result"
    }
   ],
   "source": [
    "score_credit['education'] = score_credit['education'].str.lower()\n",
    "score_credit['education'].value_counts()"
   ]
  },
  {
   "cell_type": "code",
   "execution_count": 67,
   "metadata": {},
   "outputs": [
    {
     "data": {
      "text/plain": [
       "женат / замужем          12254\n",
       "гражданский брак          4139\n",
       "Не женат / не замужем     2783\n",
       "в разводе                 1179\n",
       "вдовец / вдова             947\n",
       "Name: family_status, dtype: int64"
      ]
     },
     "execution_count": 67,
     "metadata": {},
     "output_type": "execute_result"
    }
   ],
   "source": [
    "score_credit['family_status'].value_counts()"
   ]
  },
  {
   "cell_type": "markdown",
   "metadata": {},
   "source": [
    "В таблице нет повторений семейного положения, но сделаем ее чуть презентабельнее."
   ]
  },
  {
   "cell_type": "code",
   "execution_count": 68,
   "metadata": {},
   "outputs": [
    {
     "data": {
      "text/plain": [
       "женат / замужем          12254\n",
       "гражданский брак          4139\n",
       "не женат / не замужем     2783\n",
       "в разводе                 1179\n",
       "вдовец / вдова             947\n",
       "Name: family_status, dtype: int64"
      ]
     },
     "execution_count": 68,
     "metadata": {},
     "output_type": "execute_result"
    }
   ],
   "source": [
    "score_credit['family_status'] = score_credit['family_status'].str.lower()\n",
    "score_credit['family_status'].value_counts()"
   ]
  },
  {
   "cell_type": "code",
   "execution_count": 69,
   "metadata": {},
   "outputs": [
    {
     "data": {
      "text/plain": [
       "71"
      ]
     },
     "execution_count": 69,
     "metadata": {},
     "output_type": "execute_result"
    }
   ],
   "source": [
    "score_credit.duplicated().sum()"
   ]
  },
  {
   "cell_type": "code",
   "execution_count": 70,
   "metadata": {
    "scrolled": true
   },
   "outputs": [
    {
     "data": {
      "text/html": [
       "<div>\n",
       "<style scoped>\n",
       "    .dataframe tbody tr th:only-of-type {\n",
       "        vertical-align: middle;\n",
       "    }\n",
       "\n",
       "    .dataframe tbody tr th {\n",
       "        vertical-align: top;\n",
       "    }\n",
       "\n",
       "    .dataframe thead th {\n",
       "        text-align: right;\n",
       "    }\n",
       "</style>\n",
       "<table border=\"1\" class=\"dataframe\">\n",
       "  <thead>\n",
       "    <tr style=\"text-align: right;\">\n",
       "      <th></th>\n",
       "      <th>children</th>\n",
       "      <th>dob_years</th>\n",
       "      <th>education</th>\n",
       "      <th>family_status</th>\n",
       "      <th>gender</th>\n",
       "      <th>income_type</th>\n",
       "      <th>debt</th>\n",
       "      <th>total_income</th>\n",
       "      <th>purpose</th>\n",
       "    </tr>\n",
       "  </thead>\n",
       "  <tbody>\n",
       "    <tr>\n",
       "      <td>15819</td>\n",
       "      <td>0</td>\n",
       "      <td>51</td>\n",
       "      <td>среднее</td>\n",
       "      <td>гражданский брак</td>\n",
       "      <td>F</td>\n",
       "      <td>компаньон</td>\n",
       "      <td>0</td>\n",
       "      <td>172491</td>\n",
       "      <td>на проведение свадьбы</td>\n",
       "    </tr>\n",
       "    <tr>\n",
       "      <td>13728</td>\n",
       "      <td>1</td>\n",
       "      <td>31</td>\n",
       "      <td>среднее</td>\n",
       "      <td>женат / замужем</td>\n",
       "      <td>F</td>\n",
       "      <td>компаньон</td>\n",
       "      <td>0</td>\n",
       "      <td>172491</td>\n",
       "      <td>покупка жилья</td>\n",
       "    </tr>\n",
       "    <tr>\n",
       "      <td>17584</td>\n",
       "      <td>1</td>\n",
       "      <td>40</td>\n",
       "      <td>среднее</td>\n",
       "      <td>гражданский брак</td>\n",
       "      <td>F</td>\n",
       "      <td>компаньон</td>\n",
       "      <td>0</td>\n",
       "      <td>172491</td>\n",
       "      <td>строительство жилой недвижимости</td>\n",
       "    </tr>\n",
       "    <tr>\n",
       "      <td>19165</td>\n",
       "      <td>0</td>\n",
       "      <td>45</td>\n",
       "      <td>среднее</td>\n",
       "      <td>гражданский брак</td>\n",
       "      <td>F</td>\n",
       "      <td>компаньон</td>\n",
       "      <td>0</td>\n",
       "      <td>172491</td>\n",
       "      <td>свадьба</td>\n",
       "    </tr>\n",
       "    <tr>\n",
       "      <td>19182</td>\n",
       "      <td>0</td>\n",
       "      <td>38</td>\n",
       "      <td>высшее</td>\n",
       "      <td>гражданский брак</td>\n",
       "      <td>F</td>\n",
       "      <td>компаньон</td>\n",
       "      <td>0</td>\n",
       "      <td>172491</td>\n",
       "      <td>на проведение свадьбы</td>\n",
       "    </tr>\n",
       "    <tr>\n",
       "      <td>...</td>\n",
       "      <td>...</td>\n",
       "      <td>...</td>\n",
       "      <td>...</td>\n",
       "      <td>...</td>\n",
       "      <td>...</td>\n",
       "      <td>...</td>\n",
       "      <td>...</td>\n",
       "      <td>...</td>\n",
       "      <td>...</td>\n",
       "    </tr>\n",
       "    <tr>\n",
       "      <td>13491</td>\n",
       "      <td>0</td>\n",
       "      <td>64</td>\n",
       "      <td>среднее</td>\n",
       "      <td>женат / замужем</td>\n",
       "      <td>F</td>\n",
       "      <td>пенсионер</td>\n",
       "      <td>0</td>\n",
       "      <td>118497</td>\n",
       "      <td>автомобиль</td>\n",
       "    </tr>\n",
       "    <tr>\n",
       "      <td>16030</td>\n",
       "      <td>0</td>\n",
       "      <td>56</td>\n",
       "      <td>среднее</td>\n",
       "      <td>женат / замужем</td>\n",
       "      <td>F</td>\n",
       "      <td>пенсионер</td>\n",
       "      <td>0</td>\n",
       "      <td>118497</td>\n",
       "      <td>на покупку автомобиля</td>\n",
       "    </tr>\n",
       "    <tr>\n",
       "      <td>3260</td>\n",
       "      <td>0</td>\n",
       "      <td>58</td>\n",
       "      <td>среднее</td>\n",
       "      <td>гражданский брак</td>\n",
       "      <td>F</td>\n",
       "      <td>пенсионер</td>\n",
       "      <td>0</td>\n",
       "      <td>118497</td>\n",
       "      <td>сыграть свадьбу</td>\n",
       "    </tr>\n",
       "    <tr>\n",
       "      <td>15112</td>\n",
       "      <td>0</td>\n",
       "      <td>57</td>\n",
       "      <td>среднее</td>\n",
       "      <td>гражданский брак</td>\n",
       "      <td>F</td>\n",
       "      <td>пенсионер</td>\n",
       "      <td>0</td>\n",
       "      <td>118497</td>\n",
       "      <td>свадьба</td>\n",
       "    </tr>\n",
       "    <tr>\n",
       "      <td>21193</td>\n",
       "      <td>0</td>\n",
       "      <td>54</td>\n",
       "      <td>среднее</td>\n",
       "      <td>женат / замужем</td>\n",
       "      <td>F</td>\n",
       "      <td>пенсионер</td>\n",
       "      <td>0</td>\n",
       "      <td>118497</td>\n",
       "      <td>операции с жильем</td>\n",
       "    </tr>\n",
       "  </tbody>\n",
       "</table>\n",
       "<p>71 rows × 9 columns</p>\n",
       "</div>"
      ],
      "text/plain": [
       "       children  dob_years education     family_status gender income_type  \\\n",
       "15819         0         51   среднее  гражданский брак      F   компаньон   \n",
       "13728         1         31   среднее   женат / замужем      F   компаньон   \n",
       "17584         1         40   среднее  гражданский брак      F   компаньон   \n",
       "19165         0         45   среднее  гражданский брак      F   компаньон   \n",
       "19182         0         38    высшее  гражданский брак      F   компаньон   \n",
       "...         ...        ...       ...               ...    ...         ...   \n",
       "13491         0         64   среднее   женат / замужем      F   пенсионер   \n",
       "16030         0         56   среднее   женат / замужем      F   пенсионер   \n",
       "3260          0         58   среднее  гражданский брак      F   пенсионер   \n",
       "15112         0         57   среднее  гражданский брак      F   пенсионер   \n",
       "21193         0         54   среднее   женат / замужем      F   пенсионер   \n",
       "\n",
       "       debt  total_income                           purpose  \n",
       "15819     0        172491             на проведение свадьбы  \n",
       "13728     0        172491                     покупка жилья  \n",
       "17584     0        172491  строительство жилой недвижимости  \n",
       "19165     0        172491                           свадьба  \n",
       "19182     0        172491             на проведение свадьбы  \n",
       "...     ...           ...                               ...  \n",
       "13491     0        118497                        автомобиль  \n",
       "16030     0        118497             на покупку автомобиля  \n",
       "3260      0        118497                   сыграть свадьбу  \n",
       "15112     0        118497                           свадьба  \n",
       "21193     0        118497                 операции с жильем  \n",
       "\n",
       "[71 rows x 9 columns]"
      ]
     },
     "execution_count": 70,
     "metadata": {},
     "output_type": "execute_result"
    }
   ],
   "source": [
    "duplicates_score_credit = score_credit[score_credit.duplicated(keep='first')]\n",
    "duplicates_score_credit.sort_values(by='total_income', ascending=False)"
   ]
  },
  {
   "cell_type": "markdown",
   "metadata": {},
   "source": [
    "Таблица содержит 71 дубликат. Можно найти связь между заменой total_income на медианное значение и созданием дубликатов на этом фоне."
   ]
  },
  {
   "cell_type": "code",
   "execution_count": 71,
   "metadata": {},
   "outputs": [
    {
     "data": {
      "text/html": [
       "<div>\n",
       "<style scoped>\n",
       "    .dataframe tbody tr th:only-of-type {\n",
       "        vertical-align: middle;\n",
       "    }\n",
       "\n",
       "    .dataframe tbody tr th {\n",
       "        vertical-align: top;\n",
       "    }\n",
       "\n",
       "    .dataframe thead th {\n",
       "        text-align: right;\n",
       "    }\n",
       "</style>\n",
       "<table border=\"1\" class=\"dataframe\">\n",
       "  <thead>\n",
       "    <tr style=\"text-align: right;\">\n",
       "      <th></th>\n",
       "      <th>children</th>\n",
       "      <th>dob_years</th>\n",
       "      <th>education</th>\n",
       "      <th>family_status</th>\n",
       "      <th>gender</th>\n",
       "      <th>income_type</th>\n",
       "      <th>debt</th>\n",
       "      <th>total_income</th>\n",
       "      <th>purpose</th>\n",
       "    </tr>\n",
       "  </thead>\n",
       "  <tbody>\n",
       "    <tr>\n",
       "      <td>0</td>\n",
       "      <td>1</td>\n",
       "      <td>42</td>\n",
       "      <td>высшее</td>\n",
       "      <td>женат / замужем</td>\n",
       "      <td>F</td>\n",
       "      <td>сотрудник</td>\n",
       "      <td>0</td>\n",
       "      <td>253875</td>\n",
       "      <td>покупка жилья</td>\n",
       "    </tr>\n",
       "    <tr>\n",
       "      <td>1</td>\n",
       "      <td>1</td>\n",
       "      <td>36</td>\n",
       "      <td>среднее</td>\n",
       "      <td>женат / замужем</td>\n",
       "      <td>F</td>\n",
       "      <td>сотрудник</td>\n",
       "      <td>0</td>\n",
       "      <td>112080</td>\n",
       "      <td>приобретение автомобиля</td>\n",
       "    </tr>\n",
       "    <tr>\n",
       "      <td>2</td>\n",
       "      <td>0</td>\n",
       "      <td>33</td>\n",
       "      <td>среднее</td>\n",
       "      <td>женат / замужем</td>\n",
       "      <td>M</td>\n",
       "      <td>сотрудник</td>\n",
       "      <td>0</td>\n",
       "      <td>145885</td>\n",
       "      <td>покупка жилья</td>\n",
       "    </tr>\n",
       "    <tr>\n",
       "      <td>3</td>\n",
       "      <td>3</td>\n",
       "      <td>32</td>\n",
       "      <td>среднее</td>\n",
       "      <td>женат / замужем</td>\n",
       "      <td>M</td>\n",
       "      <td>сотрудник</td>\n",
       "      <td>0</td>\n",
       "      <td>267628</td>\n",
       "      <td>дополнительное образование</td>\n",
       "    </tr>\n",
       "    <tr>\n",
       "      <td>4</td>\n",
       "      <td>0</td>\n",
       "      <td>53</td>\n",
       "      <td>среднее</td>\n",
       "      <td>гражданский брак</td>\n",
       "      <td>F</td>\n",
       "      <td>пенсионер</td>\n",
       "      <td>0</td>\n",
       "      <td>158616</td>\n",
       "      <td>сыграть свадьбу</td>\n",
       "    </tr>\n",
       "    <tr>\n",
       "      <td>...</td>\n",
       "      <td>...</td>\n",
       "      <td>...</td>\n",
       "      <td>...</td>\n",
       "      <td>...</td>\n",
       "      <td>...</td>\n",
       "      <td>...</td>\n",
       "      <td>...</td>\n",
       "      <td>...</td>\n",
       "      <td>...</td>\n",
       "    </tr>\n",
       "    <tr>\n",
       "      <td>21226</td>\n",
       "      <td>1</td>\n",
       "      <td>43</td>\n",
       "      <td>среднее</td>\n",
       "      <td>гражданский брак</td>\n",
       "      <td>F</td>\n",
       "      <td>компаньон</td>\n",
       "      <td>0</td>\n",
       "      <td>224791</td>\n",
       "      <td>операции с жильем</td>\n",
       "    </tr>\n",
       "    <tr>\n",
       "      <td>21227</td>\n",
       "      <td>0</td>\n",
       "      <td>67</td>\n",
       "      <td>среднее</td>\n",
       "      <td>женат / замужем</td>\n",
       "      <td>F</td>\n",
       "      <td>пенсионер</td>\n",
       "      <td>0</td>\n",
       "      <td>155999</td>\n",
       "      <td>сделка с автомобилем</td>\n",
       "    </tr>\n",
       "    <tr>\n",
       "      <td>21228</td>\n",
       "      <td>1</td>\n",
       "      <td>38</td>\n",
       "      <td>среднее</td>\n",
       "      <td>гражданский брак</td>\n",
       "      <td>M</td>\n",
       "      <td>сотрудник</td>\n",
       "      <td>1</td>\n",
       "      <td>89672</td>\n",
       "      <td>недвижимость</td>\n",
       "    </tr>\n",
       "    <tr>\n",
       "      <td>21229</td>\n",
       "      <td>3</td>\n",
       "      <td>38</td>\n",
       "      <td>среднее</td>\n",
       "      <td>женат / замужем</td>\n",
       "      <td>M</td>\n",
       "      <td>сотрудник</td>\n",
       "      <td>1</td>\n",
       "      <td>244093</td>\n",
       "      <td>на покупку своего автомобиля</td>\n",
       "    </tr>\n",
       "    <tr>\n",
       "      <td>21230</td>\n",
       "      <td>2</td>\n",
       "      <td>40</td>\n",
       "      <td>среднее</td>\n",
       "      <td>женат / замужем</td>\n",
       "      <td>F</td>\n",
       "      <td>сотрудник</td>\n",
       "      <td>0</td>\n",
       "      <td>82047</td>\n",
       "      <td>на покупку автомобиля</td>\n",
       "    </tr>\n",
       "  </tbody>\n",
       "</table>\n",
       "<p>21231 rows × 9 columns</p>\n",
       "</div>"
      ],
      "text/plain": [
       "       children  dob_years education     family_status gender income_type  \\\n",
       "0             1         42    высшее   женат / замужем      F   сотрудник   \n",
       "1             1         36   среднее   женат / замужем      F   сотрудник   \n",
       "2             0         33   среднее   женат / замужем      M   сотрудник   \n",
       "3             3         32   среднее   женат / замужем      M   сотрудник   \n",
       "4             0         53   среднее  гражданский брак      F   пенсионер   \n",
       "...         ...        ...       ...               ...    ...         ...   \n",
       "21226         1         43   среднее  гражданский брак      F   компаньон   \n",
       "21227         0         67   среднее   женат / замужем      F   пенсионер   \n",
       "21228         1         38   среднее  гражданский брак      M   сотрудник   \n",
       "21229         3         38   среднее   женат / замужем      M   сотрудник   \n",
       "21230         2         40   среднее   женат / замужем      F   сотрудник   \n",
       "\n",
       "       debt  total_income                       purpose  \n",
       "0         0        253875                 покупка жилья  \n",
       "1         0        112080       приобретение автомобиля  \n",
       "2         0        145885                 покупка жилья  \n",
       "3         0        267628    дополнительное образование  \n",
       "4         0        158616               сыграть свадьбу  \n",
       "...     ...           ...                           ...  \n",
       "21226     0        224791             операции с жильем  \n",
       "21227     0        155999          сделка с автомобилем  \n",
       "21228     1         89672                  недвижимость  \n",
       "21229     1        244093  на покупку своего автомобиля  \n",
       "21230     0         82047         на покупку автомобиля  \n",
       "\n",
       "[21231 rows x 9 columns]"
      ]
     },
     "execution_count": 71,
     "metadata": {},
     "output_type": "execute_result"
    }
   ],
   "source": [
    "score_credit.drop_duplicates().reset_index(drop=True)"
   ]
  },
  {
   "cell_type": "markdown",
   "metadata": {},
   "source": [
    "Принято было удалить дубликаты с помощью метода drop_duplicates с изменением индексов и удалением старых значений. 71 строчки не должны помешать для следующей обработки данных."
   ]
  },
  {
   "cell_type": "markdown",
   "metadata": {},
   "source": [
    "### Лемматизация <a name=\"m1.4\"></a>"
   ]
  },
  {
   "cell_type": "code",
   "execution_count": 72,
   "metadata": {
    "scrolled": true
   },
   "outputs": [
    {
     "data": {
      "text/plain": [
       "свадьба                                   791\n",
       "на проведение свадьбы                     768\n",
       "сыграть свадьбу                           764\n",
       "операции с недвижимостью                  670\n",
       "покупка коммерческой недвижимости         658\n",
       "покупка жилья для сдачи                   649\n",
       "операции с коммерческой недвижимостью     644\n",
       "операции с жильем                         642\n",
       "покупка жилья для семьи                   639\n",
       "жилье                                     636\n",
       "покупка жилья                             635\n",
       "недвижимость                              628\n",
       "операции со своей недвижимостью           626\n",
       "строительство собственной недвижимости    626\n",
       "строительство недвижимости                620\n",
       "строительство жилой недвижимости          619\n",
       "покупка своего жилья                      618\n",
       "покупка недвижимости                      616\n",
       "ремонт жилью                              607\n",
       "покупка жилой недвижимости                600\n",
       "на покупку своего автомобиля              501\n",
       "заняться высшим образованием              493\n",
       "автомобиль                                488\n",
       "сделка с подержанным автомобилем          482\n",
       "автомобили                                474\n",
       "на покупку подержанного автомобиля        472\n",
       "свой автомобиль                           472\n",
       "на покупку автомобиля                     466\n",
       "приобретение автомобиля                   458\n",
       "дополнительное образование                455\n",
       "сделка с автомобилем                      454\n",
       "высшее образование                        444\n",
       "получение дополнительного образования     443\n",
       "получение образования                     440\n",
       "образование                               439\n",
       "профильное образование                    431\n",
       "получение высшего образования             423\n",
       "заняться образованием                     411\n",
       "Name: purpose, dtype: int64"
      ]
     },
     "execution_count": 72,
     "metadata": {},
     "output_type": "execute_result"
    }
   ],
   "source": [
    "score_credit['purpose'].value_counts()"
   ]
  },
  {
   "cell_type": "markdown",
   "metadata": {},
   "source": [
    "При рассмотрении выделили основные цели: свадьба, недвижимость, автомобиль, образование, проведет лемматизацию"
   ]
  },
  {
   "cell_type": "code",
   "execution_count": 73,
   "metadata": {
    "scrolled": false
   },
   "outputs": [
    {
     "data": {
      "text/html": [
       "<div>\n",
       "<style scoped>\n",
       "    .dataframe tbody tr th:only-of-type {\n",
       "        vertical-align: middle;\n",
       "    }\n",
       "\n",
       "    .dataframe tbody tr th {\n",
       "        vertical-align: top;\n",
       "    }\n",
       "\n",
       "    .dataframe thead th {\n",
       "        text-align: right;\n",
       "    }\n",
       "</style>\n",
       "<table border=\"1\" class=\"dataframe\">\n",
       "  <thead>\n",
       "    <tr style=\"text-align: right;\">\n",
       "      <th></th>\n",
       "      <th>children</th>\n",
       "      <th>dob_years</th>\n",
       "      <th>education</th>\n",
       "      <th>family_status</th>\n",
       "      <th>gender</th>\n",
       "      <th>income_type</th>\n",
       "      <th>debt</th>\n",
       "      <th>total_income</th>\n",
       "      <th>purpose</th>\n",
       "      <th>lemma</th>\n",
       "    </tr>\n",
       "  </thead>\n",
       "  <tbody>\n",
       "    <tr>\n",
       "      <td>0</td>\n",
       "      <td>1</td>\n",
       "      <td>42</td>\n",
       "      <td>высшее</td>\n",
       "      <td>женат / замужем</td>\n",
       "      <td>F</td>\n",
       "      <td>сотрудник</td>\n",
       "      <td>0</td>\n",
       "      <td>253875</td>\n",
       "      <td>покупка жилья</td>\n",
       "      <td>недвижимость</td>\n",
       "    </tr>\n",
       "    <tr>\n",
       "      <td>1</td>\n",
       "      <td>1</td>\n",
       "      <td>36</td>\n",
       "      <td>среднее</td>\n",
       "      <td>женат / замужем</td>\n",
       "      <td>F</td>\n",
       "      <td>сотрудник</td>\n",
       "      <td>0</td>\n",
       "      <td>112080</td>\n",
       "      <td>приобретение автомобиля</td>\n",
       "      <td>автомобиль</td>\n",
       "    </tr>\n",
       "    <tr>\n",
       "      <td>2</td>\n",
       "      <td>0</td>\n",
       "      <td>33</td>\n",
       "      <td>среднее</td>\n",
       "      <td>женат / замужем</td>\n",
       "      <td>M</td>\n",
       "      <td>сотрудник</td>\n",
       "      <td>0</td>\n",
       "      <td>145885</td>\n",
       "      <td>покупка жилья</td>\n",
       "      <td>недвижимость</td>\n",
       "    </tr>\n",
       "    <tr>\n",
       "      <td>3</td>\n",
       "      <td>3</td>\n",
       "      <td>32</td>\n",
       "      <td>среднее</td>\n",
       "      <td>женат / замужем</td>\n",
       "      <td>M</td>\n",
       "      <td>сотрудник</td>\n",
       "      <td>0</td>\n",
       "      <td>267628</td>\n",
       "      <td>дополнительное образование</td>\n",
       "      <td>образование</td>\n",
       "    </tr>\n",
       "    <tr>\n",
       "      <td>4</td>\n",
       "      <td>0</td>\n",
       "      <td>53</td>\n",
       "      <td>среднее</td>\n",
       "      <td>гражданский брак</td>\n",
       "      <td>F</td>\n",
       "      <td>пенсионер</td>\n",
       "      <td>0</td>\n",
       "      <td>158616</td>\n",
       "      <td>сыграть свадьбу</td>\n",
       "      <td>свадьба</td>\n",
       "    </tr>\n",
       "    <tr>\n",
       "      <td>5</td>\n",
       "      <td>0</td>\n",
       "      <td>27</td>\n",
       "      <td>высшее</td>\n",
       "      <td>гражданский брак</td>\n",
       "      <td>M</td>\n",
       "      <td>компаньон</td>\n",
       "      <td>0</td>\n",
       "      <td>255763</td>\n",
       "      <td>покупка жилья</td>\n",
       "      <td>недвижимость</td>\n",
       "    </tr>\n",
       "    <tr>\n",
       "      <td>6</td>\n",
       "      <td>0</td>\n",
       "      <td>43</td>\n",
       "      <td>высшее</td>\n",
       "      <td>женат / замужем</td>\n",
       "      <td>F</td>\n",
       "      <td>компаньон</td>\n",
       "      <td>0</td>\n",
       "      <td>240525</td>\n",
       "      <td>операции с жильем</td>\n",
       "      <td>недвижимость</td>\n",
       "    </tr>\n",
       "    <tr>\n",
       "      <td>7</td>\n",
       "      <td>0</td>\n",
       "      <td>50</td>\n",
       "      <td>среднее</td>\n",
       "      <td>женат / замужем</td>\n",
       "      <td>M</td>\n",
       "      <td>сотрудник</td>\n",
       "      <td>0</td>\n",
       "      <td>135823</td>\n",
       "      <td>образование</td>\n",
       "      <td>образование</td>\n",
       "    </tr>\n",
       "    <tr>\n",
       "      <td>8</td>\n",
       "      <td>2</td>\n",
       "      <td>35</td>\n",
       "      <td>высшее</td>\n",
       "      <td>гражданский брак</td>\n",
       "      <td>F</td>\n",
       "      <td>сотрудник</td>\n",
       "      <td>0</td>\n",
       "      <td>95856</td>\n",
       "      <td>на проведение свадьбы</td>\n",
       "      <td>свадьба</td>\n",
       "    </tr>\n",
       "    <tr>\n",
       "      <td>9</td>\n",
       "      <td>0</td>\n",
       "      <td>41</td>\n",
       "      <td>среднее</td>\n",
       "      <td>женат / замужем</td>\n",
       "      <td>M</td>\n",
       "      <td>сотрудник</td>\n",
       "      <td>0</td>\n",
       "      <td>144425</td>\n",
       "      <td>покупка жилья для семьи</td>\n",
       "      <td>недвижимость</td>\n",
       "    </tr>\n",
       "  </tbody>\n",
       "</table>\n",
       "</div>"
      ],
      "text/plain": [
       "   children  dob_years education     family_status gender income_type  debt  \\\n",
       "0         1         42    высшее   женат / замужем      F   сотрудник     0   \n",
       "1         1         36   среднее   женат / замужем      F   сотрудник     0   \n",
       "2         0         33   среднее   женат / замужем      M   сотрудник     0   \n",
       "3         3         32   среднее   женат / замужем      M   сотрудник     0   \n",
       "4         0         53   среднее  гражданский брак      F   пенсионер     0   \n",
       "5         0         27    высшее  гражданский брак      M   компаньон     0   \n",
       "6         0         43    высшее   женат / замужем      F   компаньон     0   \n",
       "7         0         50   среднее   женат / замужем      M   сотрудник     0   \n",
       "8         2         35    высшее  гражданский брак      F   сотрудник     0   \n",
       "9         0         41   среднее   женат / замужем      M   сотрудник     0   \n",
       "\n",
       "   total_income                     purpose         lemma  \n",
       "0        253875               покупка жилья  недвижимость  \n",
       "1        112080     приобретение автомобиля    автомобиль  \n",
       "2        145885               покупка жилья  недвижимость  \n",
       "3        267628  дополнительное образование   образование  \n",
       "4        158616             сыграть свадьбу       свадьба  \n",
       "5        255763               покупка жилья  недвижимость  \n",
       "6        240525           операции с жильем  недвижимость  \n",
       "7        135823                 образование   образование  \n",
       "8         95856       на проведение свадьбы       свадьба  \n",
       "9        144425     покупка жилья для семьи  недвижимость  "
      ]
     },
     "execution_count": 73,
     "metadata": {},
     "output_type": "execute_result"
    }
   ],
   "source": [
    "score_credit['lemma'] = score_credit.purpose.apply(m.lemmatize)\n",
    "Counter(m.lemmatize(' '.join(score_credit['purpose'])))\n",
    "def purpose_short(lst):\n",
    "    if 'автомобиль' in lst:\n",
    "        return 'автомобиль'\n",
    "    if 'образование' in lst:\n",
    "        return 'образование'\n",
    "    if 'свадьба' in lst:\n",
    "        return 'свадьба'\n",
    "    if 'ремонт' in lst:\n",
    "        return 'ремонт'\n",
    "    if 'жилье' in lst or 'недвижимость' in lst:\n",
    "        return 'недвижимость'\n",
    "score_credit['lemma'] = score_credit.lemma.apply(purpose_short)\n",
    "score_credit.head(10)"
   ]
  },
  {
   "cell_type": "markdown",
   "metadata": {},
   "source": [
    "### Категоризация данных <a name=\"m1.5\"></a>"
   ]
  },
  {
   "cell_type": "code",
   "execution_count": 74,
   "metadata": {},
   "outputs": [
    {
     "data": {
      "text/html": [
       "<div>\n",
       "<style scoped>\n",
       "    .dataframe tbody tr th:only-of-type {\n",
       "        vertical-align: middle;\n",
       "    }\n",
       "\n",
       "    .dataframe tbody tr th {\n",
       "        vertical-align: top;\n",
       "    }\n",
       "\n",
       "    .dataframe thead th {\n",
       "        text-align: right;\n",
       "    }\n",
       "</style>\n",
       "<table border=\"1\" class=\"dataframe\">\n",
       "  <thead>\n",
       "    <tr style=\"text-align: right;\">\n",
       "      <th></th>\n",
       "      <th>count</th>\n",
       "      <th>mean</th>\n",
       "    </tr>\n",
       "    <tr>\n",
       "      <th>total_income</th>\n",
       "      <th></th>\n",
       "      <th></th>\n",
       "    </tr>\n",
       "  </thead>\n",
       "  <tbody>\n",
       "    <tr>\n",
       "      <td>20667</td>\n",
       "      <td>1</td>\n",
       "      <td>1.0</td>\n",
       "    </tr>\n",
       "    <tr>\n",
       "      <td>21205</td>\n",
       "      <td>1</td>\n",
       "      <td>0.0</td>\n",
       "    </tr>\n",
       "    <tr>\n",
       "      <td>21367</td>\n",
       "      <td>1</td>\n",
       "      <td>0.0</td>\n",
       "    </tr>\n",
       "    <tr>\n",
       "      <td>21695</td>\n",
       "      <td>1</td>\n",
       "      <td>0.0</td>\n",
       "    </tr>\n",
       "    <tr>\n",
       "      <td>21895</td>\n",
       "      <td>1</td>\n",
       "      <td>0.0</td>\n",
       "    </tr>\n",
       "    <tr>\n",
       "      <td>...</td>\n",
       "      <td>...</td>\n",
       "      <td>...</td>\n",
       "    </tr>\n",
       "    <tr>\n",
       "      <td>1711309</td>\n",
       "      <td>1</td>\n",
       "      <td>0.0</td>\n",
       "    </tr>\n",
       "    <tr>\n",
       "      <td>1715018</td>\n",
       "      <td>1</td>\n",
       "      <td>0.0</td>\n",
       "    </tr>\n",
       "    <tr>\n",
       "      <td>1726276</td>\n",
       "      <td>1</td>\n",
       "      <td>0.0</td>\n",
       "    </tr>\n",
       "    <tr>\n",
       "      <td>2200852</td>\n",
       "      <td>1</td>\n",
       "      <td>1.0</td>\n",
       "    </tr>\n",
       "    <tr>\n",
       "      <td>2265604</td>\n",
       "      <td>1</td>\n",
       "      <td>0.0</td>\n",
       "    </tr>\n",
       "  </tbody>\n",
       "</table>\n",
       "<p>18423 rows × 2 columns</p>\n",
       "</div>"
      ],
      "text/plain": [
       "              count  mean\n",
       "total_income             \n",
       "20667             1   1.0\n",
       "21205             1   0.0\n",
       "21367             1   0.0\n",
       "21695             1   0.0\n",
       "21895             1   0.0\n",
       "...             ...   ...\n",
       "1711309           1   0.0\n",
       "1715018           1   0.0\n",
       "1726276           1   0.0\n",
       "2200852           1   1.0\n",
       "2265604           1   0.0\n",
       "\n",
       "[18423 rows x 2 columns]"
      ]
     },
     "execution_count": 74,
     "metadata": {},
     "output_type": "execute_result"
    }
   ],
   "source": [
    "score_credit.groupby('total_income')['debt'].agg(['count','mean'])"
   ]
  },
  {
   "cell_type": "markdown",
   "metadata": {},
   "source": [
    "Для последующей работы с даннами нам нужно будет создавать сводную таблицу между total_income и debt. При пробном составлении сводной таблицы через группировку groupby можно заметить, что значений 18 тысяч и пересмотреть их все нереально. Будем категоризировать их для удобства!"
   ]
  },
  {
   "cell_type": "code",
   "execution_count": 75,
   "metadata": {},
   "outputs": [
    {
     "data": {
      "text/plain": [
       "count      21302\n",
       "mean      165292\n",
       "std        98278\n",
       "min        20667\n",
       "25%       107776\n",
       "50%       142594\n",
       "75%       195547\n",
       "max      2265604\n",
       "Name: total_income, dtype: int64"
      ]
     },
     "execution_count": 75,
     "metadata": {},
     "output_type": "execute_result"
    }
   ],
   "source": [
    "score_credit['total_income'].describe().astype('int')"
   ]
  },
  {
   "cell_type": "markdown",
   "metadata": {},
   "source": [
    "Описание столбца total_income говорит нам о следующем: минимальное значение 20667, медианное 142594, максимальное 2265604. Будем группировать зарплату на 3 категории: ниже среднего (от минимум total_income до 140000), средняя (от 140000 до 300000), выше среднего (от 300000 до 500000), высокая (от 500000 до максимума total_income). Граница 140000 поставлена из-за того, что медианное значение у нас 142594, а значит отнести такую заработную плату нельзя к ниже среднего."
   ]
  },
  {
   "cell_type": "code",
   "execution_count": 76,
   "metadata": {},
   "outputs": [],
   "source": [
    "score_credit['total_income_group'] = pd.cut(score_credit['total_income'],\n",
    "                                            [score_credit['total_income'].min(), 140000, 300000, 500000,\n",
    "                                            score_credit['total_income'].max()]) "
   ]
  },
  {
   "cell_type": "code",
   "execution_count": 77,
   "metadata": {},
   "outputs": [
    {
     "data": {
      "text/plain": [
       "(140000, 300000]     10417\n",
       "(20667, 140000]       9414\n",
       "(300000, 500000]      1248\n",
       "(500000, 2265604]      222\n",
       "Name: total_income_group, dtype: int64"
      ]
     },
     "execution_count": 77,
     "metadata": {},
     "output_type": "execute_result"
    }
   ],
   "source": [
    "score_credit['total_income_group'].value_counts()"
   ]
  },
  {
   "cell_type": "code",
   "execution_count": 78,
   "metadata": {
    "scrolled": true
   },
   "outputs": [
    {
     "data": {
      "text/html": [
       "<div>\n",
       "<style scoped>\n",
       "    .dataframe tbody tr th:only-of-type {\n",
       "        vertical-align: middle;\n",
       "    }\n",
       "\n",
       "    .dataframe tbody tr th {\n",
       "        vertical-align: top;\n",
       "    }\n",
       "\n",
       "    .dataframe thead th {\n",
       "        text-align: right;\n",
       "    }\n",
       "</style>\n",
       "<table border=\"1\" class=\"dataframe\">\n",
       "  <thead>\n",
       "    <tr style=\"text-align: right;\">\n",
       "      <th></th>\n",
       "      <th>children</th>\n",
       "      <th>dob_years</th>\n",
       "      <th>education</th>\n",
       "      <th>family_status</th>\n",
       "      <th>gender</th>\n",
       "      <th>income_type</th>\n",
       "      <th>debt</th>\n",
       "      <th>total_income</th>\n",
       "      <th>purpose</th>\n",
       "      <th>lemma</th>\n",
       "      <th>total_income_group</th>\n",
       "    </tr>\n",
       "  </thead>\n",
       "  <tbody>\n",
       "    <tr>\n",
       "      <td>0</td>\n",
       "      <td>1</td>\n",
       "      <td>42</td>\n",
       "      <td>высшее</td>\n",
       "      <td>женат / замужем</td>\n",
       "      <td>F</td>\n",
       "      <td>сотрудник</td>\n",
       "      <td>0</td>\n",
       "      <td>253875</td>\n",
       "      <td>покупка жилья</td>\n",
       "      <td>недвижимость</td>\n",
       "      <td>(140000, 300000]</td>\n",
       "    </tr>\n",
       "    <tr>\n",
       "      <td>1</td>\n",
       "      <td>1</td>\n",
       "      <td>36</td>\n",
       "      <td>среднее</td>\n",
       "      <td>женат / замужем</td>\n",
       "      <td>F</td>\n",
       "      <td>сотрудник</td>\n",
       "      <td>0</td>\n",
       "      <td>112080</td>\n",
       "      <td>приобретение автомобиля</td>\n",
       "      <td>автомобиль</td>\n",
       "      <td>(20667, 140000]</td>\n",
       "    </tr>\n",
       "    <tr>\n",
       "      <td>2</td>\n",
       "      <td>0</td>\n",
       "      <td>33</td>\n",
       "      <td>среднее</td>\n",
       "      <td>женат / замужем</td>\n",
       "      <td>M</td>\n",
       "      <td>сотрудник</td>\n",
       "      <td>0</td>\n",
       "      <td>145885</td>\n",
       "      <td>покупка жилья</td>\n",
       "      <td>недвижимость</td>\n",
       "      <td>(140000, 300000]</td>\n",
       "    </tr>\n",
       "    <tr>\n",
       "      <td>3</td>\n",
       "      <td>3</td>\n",
       "      <td>32</td>\n",
       "      <td>среднее</td>\n",
       "      <td>женат / замужем</td>\n",
       "      <td>M</td>\n",
       "      <td>сотрудник</td>\n",
       "      <td>0</td>\n",
       "      <td>267628</td>\n",
       "      <td>дополнительное образование</td>\n",
       "      <td>образование</td>\n",
       "      <td>(140000, 300000]</td>\n",
       "    </tr>\n",
       "    <tr>\n",
       "      <td>4</td>\n",
       "      <td>0</td>\n",
       "      <td>53</td>\n",
       "      <td>среднее</td>\n",
       "      <td>гражданский брак</td>\n",
       "      <td>F</td>\n",
       "      <td>пенсионер</td>\n",
       "      <td>0</td>\n",
       "      <td>158616</td>\n",
       "      <td>сыграть свадьбу</td>\n",
       "      <td>свадьба</td>\n",
       "      <td>(140000, 300000]</td>\n",
       "    </tr>\n",
       "    <tr>\n",
       "      <td>5</td>\n",
       "      <td>0</td>\n",
       "      <td>27</td>\n",
       "      <td>высшее</td>\n",
       "      <td>гражданский брак</td>\n",
       "      <td>M</td>\n",
       "      <td>компаньон</td>\n",
       "      <td>0</td>\n",
       "      <td>255763</td>\n",
       "      <td>покупка жилья</td>\n",
       "      <td>недвижимость</td>\n",
       "      <td>(140000, 300000]</td>\n",
       "    </tr>\n",
       "    <tr>\n",
       "      <td>6</td>\n",
       "      <td>0</td>\n",
       "      <td>43</td>\n",
       "      <td>высшее</td>\n",
       "      <td>женат / замужем</td>\n",
       "      <td>F</td>\n",
       "      <td>компаньон</td>\n",
       "      <td>0</td>\n",
       "      <td>240525</td>\n",
       "      <td>операции с жильем</td>\n",
       "      <td>недвижимость</td>\n",
       "      <td>(140000, 300000]</td>\n",
       "    </tr>\n",
       "    <tr>\n",
       "      <td>7</td>\n",
       "      <td>0</td>\n",
       "      <td>50</td>\n",
       "      <td>среднее</td>\n",
       "      <td>женат / замужем</td>\n",
       "      <td>M</td>\n",
       "      <td>сотрудник</td>\n",
       "      <td>0</td>\n",
       "      <td>135823</td>\n",
       "      <td>образование</td>\n",
       "      <td>образование</td>\n",
       "      <td>(20667, 140000]</td>\n",
       "    </tr>\n",
       "    <tr>\n",
       "      <td>8</td>\n",
       "      <td>2</td>\n",
       "      <td>35</td>\n",
       "      <td>высшее</td>\n",
       "      <td>гражданский брак</td>\n",
       "      <td>F</td>\n",
       "      <td>сотрудник</td>\n",
       "      <td>0</td>\n",
       "      <td>95856</td>\n",
       "      <td>на проведение свадьбы</td>\n",
       "      <td>свадьба</td>\n",
       "      <td>(20667, 140000]</td>\n",
       "    </tr>\n",
       "    <tr>\n",
       "      <td>9</td>\n",
       "      <td>0</td>\n",
       "      <td>41</td>\n",
       "      <td>среднее</td>\n",
       "      <td>женат / замужем</td>\n",
       "      <td>M</td>\n",
       "      <td>сотрудник</td>\n",
       "      <td>0</td>\n",
       "      <td>144425</td>\n",
       "      <td>покупка жилья для семьи</td>\n",
       "      <td>недвижимость</td>\n",
       "      <td>(140000, 300000]</td>\n",
       "    </tr>\n",
       "    <tr>\n",
       "      <td>10</td>\n",
       "      <td>2</td>\n",
       "      <td>36</td>\n",
       "      <td>высшее</td>\n",
       "      <td>женат / замужем</td>\n",
       "      <td>M</td>\n",
       "      <td>компаньон</td>\n",
       "      <td>0</td>\n",
       "      <td>113943</td>\n",
       "      <td>покупка недвижимости</td>\n",
       "      <td>недвижимость</td>\n",
       "      <td>(20667, 140000]</td>\n",
       "    </tr>\n",
       "    <tr>\n",
       "      <td>11</td>\n",
       "      <td>0</td>\n",
       "      <td>40</td>\n",
       "      <td>среднее</td>\n",
       "      <td>женат / замужем</td>\n",
       "      <td>F</td>\n",
       "      <td>сотрудник</td>\n",
       "      <td>0</td>\n",
       "      <td>77069</td>\n",
       "      <td>покупка коммерческой недвижимости</td>\n",
       "      <td>недвижимость</td>\n",
       "      <td>(20667, 140000]</td>\n",
       "    </tr>\n",
       "    <tr>\n",
       "      <td>12</td>\n",
       "      <td>0</td>\n",
       "      <td>65</td>\n",
       "      <td>среднее</td>\n",
       "      <td>гражданский брак</td>\n",
       "      <td>M</td>\n",
       "      <td>пенсионер</td>\n",
       "      <td>0</td>\n",
       "      <td>118497</td>\n",
       "      <td>сыграть свадьбу</td>\n",
       "      <td>свадьба</td>\n",
       "      <td>(20667, 140000]</td>\n",
       "    </tr>\n",
       "    <tr>\n",
       "      <td>13</td>\n",
       "      <td>0</td>\n",
       "      <td>54</td>\n",
       "      <td>неоконченное высшее</td>\n",
       "      <td>женат / замужем</td>\n",
       "      <td>F</td>\n",
       "      <td>сотрудник</td>\n",
       "      <td>0</td>\n",
       "      <td>130458</td>\n",
       "      <td>приобретение автомобиля</td>\n",
       "      <td>автомобиль</td>\n",
       "      <td>(20667, 140000]</td>\n",
       "    </tr>\n",
       "    <tr>\n",
       "      <td>14</td>\n",
       "      <td>0</td>\n",
       "      <td>56</td>\n",
       "      <td>высшее</td>\n",
       "      <td>гражданский брак</td>\n",
       "      <td>F</td>\n",
       "      <td>компаньон</td>\n",
       "      <td>1</td>\n",
       "      <td>165127</td>\n",
       "      <td>покупка жилой недвижимости</td>\n",
       "      <td>недвижимость</td>\n",
       "      <td>(140000, 300000]</td>\n",
       "    </tr>\n",
       "    <tr>\n",
       "      <td>15</td>\n",
       "      <td>1</td>\n",
       "      <td>26</td>\n",
       "      <td>среднее</td>\n",
       "      <td>женат / замужем</td>\n",
       "      <td>F</td>\n",
       "      <td>сотрудник</td>\n",
       "      <td>0</td>\n",
       "      <td>116820</td>\n",
       "      <td>строительство собственной недвижимости</td>\n",
       "      <td>недвижимость</td>\n",
       "      <td>(20667, 140000]</td>\n",
       "    </tr>\n",
       "    <tr>\n",
       "      <td>16</td>\n",
       "      <td>0</td>\n",
       "      <td>35</td>\n",
       "      <td>среднее</td>\n",
       "      <td>женат / замужем</td>\n",
       "      <td>F</td>\n",
       "      <td>сотрудник</td>\n",
       "      <td>0</td>\n",
       "      <td>289202</td>\n",
       "      <td>недвижимость</td>\n",
       "      <td>недвижимость</td>\n",
       "      <td>(140000, 300000]</td>\n",
       "    </tr>\n",
       "    <tr>\n",
       "      <td>17</td>\n",
       "      <td>0</td>\n",
       "      <td>33</td>\n",
       "      <td>высшее</td>\n",
       "      <td>гражданский брак</td>\n",
       "      <td>M</td>\n",
       "      <td>сотрудник</td>\n",
       "      <td>0</td>\n",
       "      <td>90410</td>\n",
       "      <td>строительство недвижимости</td>\n",
       "      <td>недвижимость</td>\n",
       "      <td>(20667, 140000]</td>\n",
       "    </tr>\n",
       "    <tr>\n",
       "      <td>18</td>\n",
       "      <td>0</td>\n",
       "      <td>53</td>\n",
       "      <td>среднее</td>\n",
       "      <td>вдовец / вдова</td>\n",
       "      <td>F</td>\n",
       "      <td>пенсионер</td>\n",
       "      <td>0</td>\n",
       "      <td>56823</td>\n",
       "      <td>на покупку подержанного автомобиля</td>\n",
       "      <td>автомобиль</td>\n",
       "      <td>(20667, 140000]</td>\n",
       "    </tr>\n",
       "    <tr>\n",
       "      <td>19</td>\n",
       "      <td>0</td>\n",
       "      <td>48</td>\n",
       "      <td>среднее</td>\n",
       "      <td>в разводе</td>\n",
       "      <td>F</td>\n",
       "      <td>сотрудник</td>\n",
       "      <td>0</td>\n",
       "      <td>242831</td>\n",
       "      <td>на покупку своего автомобиля</td>\n",
       "      <td>автомобиль</td>\n",
       "      <td>(140000, 300000]</td>\n",
       "    </tr>\n",
       "  </tbody>\n",
       "</table>\n",
       "</div>"
      ],
      "text/plain": [
       "    children  dob_years            education     family_status gender  \\\n",
       "0          1         42               высшее   женат / замужем      F   \n",
       "1          1         36              среднее   женат / замужем      F   \n",
       "2          0         33              среднее   женат / замужем      M   \n",
       "3          3         32              среднее   женат / замужем      M   \n",
       "4          0         53              среднее  гражданский брак      F   \n",
       "5          0         27               высшее  гражданский брак      M   \n",
       "6          0         43               высшее   женат / замужем      F   \n",
       "7          0         50              среднее   женат / замужем      M   \n",
       "8          2         35               высшее  гражданский брак      F   \n",
       "9          0         41              среднее   женат / замужем      M   \n",
       "10         2         36               высшее   женат / замужем      M   \n",
       "11         0         40              среднее   женат / замужем      F   \n",
       "12         0         65              среднее  гражданский брак      M   \n",
       "13         0         54  неоконченное высшее   женат / замужем      F   \n",
       "14         0         56               высшее  гражданский брак      F   \n",
       "15         1         26              среднее   женат / замужем      F   \n",
       "16         0         35              среднее   женат / замужем      F   \n",
       "17         0         33               высшее  гражданский брак      M   \n",
       "18         0         53              среднее    вдовец / вдова      F   \n",
       "19         0         48              среднее         в разводе      F   \n",
       "\n",
       "   income_type  debt  total_income                                 purpose  \\\n",
       "0    сотрудник     0        253875                           покупка жилья   \n",
       "1    сотрудник     0        112080                 приобретение автомобиля   \n",
       "2    сотрудник     0        145885                           покупка жилья   \n",
       "3    сотрудник     0        267628              дополнительное образование   \n",
       "4    пенсионер     0        158616                         сыграть свадьбу   \n",
       "5    компаньон     0        255763                           покупка жилья   \n",
       "6    компаньон     0        240525                       операции с жильем   \n",
       "7    сотрудник     0        135823                             образование   \n",
       "8    сотрудник     0         95856                   на проведение свадьбы   \n",
       "9    сотрудник     0        144425                 покупка жилья для семьи   \n",
       "10   компаньон     0        113943                    покупка недвижимости   \n",
       "11   сотрудник     0         77069       покупка коммерческой недвижимости   \n",
       "12   пенсионер     0        118497                         сыграть свадьбу   \n",
       "13   сотрудник     0        130458                 приобретение автомобиля   \n",
       "14   компаньон     1        165127              покупка жилой недвижимости   \n",
       "15   сотрудник     0        116820  строительство собственной недвижимости   \n",
       "16   сотрудник     0        289202                            недвижимость   \n",
       "17   сотрудник     0         90410              строительство недвижимости   \n",
       "18   пенсионер     0         56823      на покупку подержанного автомобиля   \n",
       "19   сотрудник     0        242831            на покупку своего автомобиля   \n",
       "\n",
       "           lemma total_income_group  \n",
       "0   недвижимость   (140000, 300000]  \n",
       "1     автомобиль    (20667, 140000]  \n",
       "2   недвижимость   (140000, 300000]  \n",
       "3    образование   (140000, 300000]  \n",
       "4        свадьба   (140000, 300000]  \n",
       "5   недвижимость   (140000, 300000]  \n",
       "6   недвижимость   (140000, 300000]  \n",
       "7    образование    (20667, 140000]  \n",
       "8        свадьба    (20667, 140000]  \n",
       "9   недвижимость   (140000, 300000]  \n",
       "10  недвижимость    (20667, 140000]  \n",
       "11  недвижимость    (20667, 140000]  \n",
       "12       свадьба    (20667, 140000]  \n",
       "13    автомобиль    (20667, 140000]  \n",
       "14  недвижимость   (140000, 300000]  \n",
       "15  недвижимость    (20667, 140000]  \n",
       "16  недвижимость   (140000, 300000]  \n",
       "17  недвижимость    (20667, 140000]  \n",
       "18    автомобиль    (20667, 140000]  \n",
       "19    автомобиль   (140000, 300000]  "
      ]
     },
     "execution_count": 78,
     "metadata": {},
     "output_type": "execute_result"
    }
   ],
   "source": [
    "score_credit.head(20)"
   ]
  },
  {
   "cell_type": "markdown",
   "metadata": {},
   "source": [
    "## Ответы на вопросы <a name=\"m2\"></a>"
   ]
  },
  {
   "cell_type": "markdown",
   "metadata": {},
   "source": [
    "### Есть ли зависимость между наличием детей и возвратом кредита в срок? <a name=\"m2.1\"></a>"
   ]
  },
  {
   "cell_type": "code",
   "execution_count": 87,
   "metadata": {},
   "outputs": [
    {
     "data": {
      "image/png": "[encoded data removed]",
      "text/plain": [
       "<Figure size 720x432 with 1 Axes>"
      ]
     },
     "metadata": {
      "needs_background": "light"
     },
     "output_type": "display_data"
    }
   ],
   "source": [
    "plt.figure(figsize=(10,6));\n",
    "score_credit.groupby('children')['debt'].mean().plot(kind='bar');\n",
    "plt.title('Зависимость наличия детей и возврат кредита в срок', fontsize=14);\n",
    "plt.xlabel('Количество детей', fontsize = 11); \n",
    "plt.ylabel('Возврат кредита в срок', fontsize = 11) ;\n",
    "plt.xticks(rotation=30);"
   ]
  },
  {
   "cell_type": "markdown",
   "metadata": {},
   "source": [
    "Можно знаметить, что у людей с 5-ю детьми нет задолжностей. Однако 5 детей имеют лишь 9 человек, поэтому нельзя говорить, что 100% когда у тебя 5 детей, то у тебя нет задолжностей, мало информации для рассмотрения. Меньший процент должников у людей без детей (7%, или 800 человек, на 14 тысяч человек). У людей с детьми от 1 до 4 процент должников на 1-2 процента больше, чем без детей. Самый большой показатель у людей с 4-я детьми (почти 10 процентов). \n",
    "При рассмотрении видна зависимость когда у тебя нет детей и есть хотя бы 1 ребенок."
   ]
  },
  {
   "cell_type": "markdown",
   "metadata": {},
   "source": [
    "### Есть ли зависимость между семейным положением и возвратом кредита в срок? <a name=\"m2.2\"></a>"
   ]
  },
  {
   "cell_type": "code",
   "execution_count": 82,
   "metadata": {},
   "outputs": [
    {
     "data": {
      "image/png": "[encoded data removed]",
      "text/plain": [
       "<Figure size 720x432 with 1 Axes>"
      ]
     },
     "metadata": {
      "needs_background": "light"
     },
     "output_type": "display_data"
    }
   ],
   "source": [
    "plt.figure(figsize=(10,6));\n",
    "score_credit.groupby('family_status')['debt'].mean().plot(kind='bar');\n",
    "plt.title('Зависимость семейного положения и возврат кредита в срок', fontsize=14);\n",
    "plt.xlabel('Семейное положения', fontsize = 11); \n",
    "plt.ylabel('Возврат кредита в срок', fontsize = 11);\n",
    "plt.xticks(rotation=30);"
   ]
  },
  {
   "cell_type": "markdown",
   "metadata": {},
   "source": [
    "Почти 10% не женатых людей или людей в гражданском брате имеют задолжности даже с учетом того, что таких людей в 2 раза меньше, чем женатых, у которых процент должников 7%. Зависимость можно увидеть и подумать: нужно ли иметь почти 10% (600 человек) должников на 6000 человек. "
   ]
  },
  {
   "cell_type": "markdown",
   "metadata": {},
   "source": [
    "### Есть ли зависимость между уровнем дохода и возвратом кредита в срок? <a name=\"m2.3\"></a>"
   ]
  },
  {
   "cell_type": "code",
   "execution_count": 84,
   "metadata": {},
   "outputs": [
    {
     "data": {
      "image/png": "[encoded data removed]",
      "text/plain": [
       "<Figure size 720x432 with 1 Axes>"
      ]
     },
     "metadata": {
      "needs_background": "light"
     },
     "output_type": "display_data"
    }
   ],
   "source": [
    "plt.figure(figsize=(10,6));\n",
    "score_credit.groupby('total_income_group')['debt'].mean().plot(kind='bar');\n",
    "plt.title('Зависимость уровня дохода и возврат кредита в срок', fontsize=14);\n",
    "plt.xlabel('Уровенеь дохода', fontsize = 11); \n",
    "plt.ylabel('Возврат кредита в срок', fontsize = 11);\n",
    "plt.xticks(rotation=30);"
   ]
  },
  {
   "cell_type": "markdown",
   "metadata": {},
   "source": [
    "При визуальной оценки данных видно, что чем больше получает клиент, тем чаще он не имеет задолжностей. Но и чем больше получает клиент, тем меньше он берет кредиты. Зависимость просматривается, но и не стоит забывать, что бОльшая часть клиентов находится в категории \"минимальная\" и \"средняя\" заработная плата."
   ]
  },
  {
   "cell_type": "markdown",
   "metadata": {},
   "source": [
    "### Как разные цели кредита влияют на его возврат в срок? <a name=\"m2.4\"></a>"
   ]
  },
  {
   "cell_type": "code",
   "execution_count": 89,
   "metadata": {},
   "outputs": [
    {
     "data": {
      "image/png": "[encoded data removed]",
      "text/plain": [
       "<Figure size 720x432 with 1 Axes>"
      ]
     },
     "metadata": {
      "needs_background": "light"
     },
     "output_type": "display_data"
    }
   ],
   "source": [
    "plt.figure(figsize=(10,6));\n",
    "score_credit.groupby('lemma')['debt'].mean().plot(kind='bar');\n",
    "plt.title('Зависимость цели кредита и возврат кредита в срок', fontsize=14);\n",
    "plt.xlabel('Цель кредита', fontsize = 11); \n",
    "plt.ylabel('Возврат кредита в срок', fontsize = 11);\n",
    "plt.xticks(rotation=30);"
   ]
  },
  {
   "cell_type": "markdown",
   "metadata": {},
   "source": [
    "При визуальном рассмотрении видно, что чаще должники встречаются при оплате кредита на автомобиль и образование. Мне кажется, что здесь уже просматривается какая-то зависимость между целью и возвратом вовремя. Так как разница между должниками по автомобилеям\\образованию и по ремонту оценивается в почти 4%. То есть у ремонта на каждые 100 человек 5 должников, а у образования\\автомобиля 9 должников, почти в два раза больше. "
   ]
  },
  {
   "cell_type": "markdown",
   "metadata": {},
   "source": [
    "## Общий вывод <a name=\"m2\"></a>"
   ]
  },
  {
   "cell_type": "markdown",
   "metadata": {},
   "source": [
    "При рассмотрении данной таблицы я сделала следующие изменения:\n",
    "- удалила столбцы с days_employed, family_status_id, education_id, так как эти столбцы никак не влияли на наш анализ, но мешали для восприятия\n",
    "- нашли пропущенные значения в total_income, которые заменили на медианное значение для каждой категории занятости\n",
    "- нашли нули в dob_years и удалили их\n",
    "- нашли артефакты в children в виду -1 и 20 детей, которые тоже удалили\n",
    "- заменили в total_income тип данных на int\n",
    "- навели порядок в столбце education, сделав написание образоваия везде нижним регистром\n",
    "- навели небольшой порядок в family_status, сделав написание везде нижним регистром\n",
    "- сделали лемматизацию в столбце purpose, разделив цели кредита на 4 категории: образование, автомобиль, недвижимость, свадьба\n",
    "- категоризировали столбец total_income на 4 категории дохода: минимальный, средний, выше среднего, высокий\n",
    "\n",
    "При анализе зависимости между детьми\\семейным положением\\доходом\\целью кредита и возвратом кредита вовремя зависимости были выделены такие:\n",
    "- люди без детей сдают кредит вовремя чаще, чем с детьми, однако категория \"5 детей\" не берется в рассмотрение, так как не хватает информации (9 человек и 100% возврат не гарантирует, что каждый человек с 5-ю детьми будет все платить вовремя, тут лишь так совпало)\n",
    "- категории \"не женат\\ не замужем\" и \"гражданский брак\" чаще имеют должников. на суммарное количество чуть больше 6000 человек должников выходит 600, чаще кредит вовремя сдают вдовцы\n",
    "- явная зависимость просматривается при визуализации должников по уровню дохода: чем больше получает человек - тем чаще вовремя он платит кредит\n",
    "- если человек берет кредит на образование или машину, то с чуть большей вероятностью он не будет платить вовремя, однако если человек берет кредит на ремонт, то он платит вовремя чаще остальных\n",
    "\n",
    "На основе этого можно сделать вывод, что каждая категория имеет свои подводные камни в виду должников. И когда банк будет думать давать клиенту кредит или нет, то нужно рассматривать совокупность каждой зависимости. Пример: если человек с 2-мя детьми в гражданском браке с минимальным доходом берет кредит на автомобиль, то с большей вероятностью он будет должником, так как в каждой категории рассмотрения попадает в высшие показатели должников. "
   ]
  }
 ],
 "metadata": {
  "ExecuteTimeLog": [
   {
    "duration": 691,
    "start_time": "2021-09-07T17:53:35.843Z"
   },
   {
    "duration": 4,
    "start_time": "2021-09-07T17:53:36.536Z"
   },
   {
    "duration": 49,
    "start_time": "2021-09-07T17:53:36.700Z"
   },
   {
    "duration": 23,
    "start_time": "2021-09-07T17:53:37.525Z"
   },
   {
    "duration": 2,
    "start_time": "2021-09-07T17:53:49.588Z"
   },
   {
    "duration": 3,
    "start_time": "2021-09-07T17:53:49.780Z"
   },
   {
    "duration": 48,
    "start_time": "2021-09-07T17:53:50.148Z"
   },
   {
    "duration": 19,
    "start_time": "2021-09-07T17:53:50.324Z"
   },
   {
    "duration": 11,
    "start_time": "2021-09-07T17:53:50.659Z"
   },
   {
    "duration": 10,
    "start_time": "2021-09-07T17:53:51.131Z"
   },
   {
    "duration": 7,
    "start_time": "2021-09-07T17:53:51.451Z"
   },
   {
    "duration": 6,
    "start_time": "2021-09-07T17:53:51.597Z"
   },
   {
    "duration": 5,
    "start_time": "2021-09-07T17:53:52.177Z"
   },
   {
    "duration": 11,
    "start_time": "2021-09-07T17:53:52.205Z"
   },
   {
    "duration": 5,
    "start_time": "2021-09-07T17:53:52.238Z"
   },
   {
    "duration": 2,
    "start_time": "2021-09-07T17:53:52.302Z"
   },
   {
    "duration": 26,
    "start_time": "2021-09-07T17:53:52.333Z"
   },
   {
    "duration": 3,
    "start_time": "2021-09-07T17:53:52.363Z"
   },
   {
    "duration": 12,
    "start_time": "2021-09-07T17:53:52.396Z"
   },
   {
    "duration": 7,
    "start_time": "2021-09-07T17:53:52.536Z"
   },
   {
    "duration": 17,
    "start_time": "2021-09-07T17:53:52.599Z"
   },
   {
    "duration": 7,
    "start_time": "2021-09-07T17:53:52.631Z"
   },
   {
    "duration": 19,
    "start_time": "2021-09-07T17:53:52.692Z"
   },
   {
    "duration": 19,
    "start_time": "2021-09-07T17:53:52.722Z"
   },
   {
    "duration": 25,
    "start_time": "2021-09-07T17:53:52.772Z"
   },
   {
    "duration": 27,
    "start_time": "2021-09-07T17:53:52.832Z"
   },
   {
    "duration": 7,
    "start_time": "2021-09-07T17:53:52.925Z"
   },
   {
    "duration": 5341,
    "start_time": "2021-09-07T17:53:52.988Z"
   },
   {
    "duration": 19,
    "start_time": "2021-09-07T17:53:58.331Z"
   },
   {
    "duration": 7,
    "start_time": "2021-09-07T17:53:58.352Z"
   },
   {
    "duration": 6,
    "start_time": "2021-09-07T17:53:58.377Z"
   },
   {
    "duration": 8,
    "start_time": "2021-09-07T17:53:58.384Z"
   },
   {
    "duration": 16,
    "start_time": "2021-09-07T17:53:58.394Z"
   },
   {
    "duration": 9,
    "start_time": "2021-09-07T17:53:58.412Z"
   },
   {
    "duration": 218,
    "start_time": "2021-09-07T17:53:58.423Z"
   },
   {
    "duration": 4434,
    "start_time": "2021-09-07T17:54:05.397Z"
   },
   {
    "duration": 16,
    "start_time": "2021-09-07T17:54:09.833Z"
   },
   {
    "duration": 30,
    "start_time": "2021-09-07T17:54:09.851Z"
   },
   {
    "duration": 7,
    "start_time": "2021-09-07T17:54:09.883Z"
   },
   {
    "duration": 9,
    "start_time": "2021-09-07T17:54:09.892Z"
   },
   {
    "duration": 15,
    "start_time": "2021-09-07T17:54:09.903Z"
   },
   {
    "duration": 12,
    "start_time": "2021-09-07T17:54:09.920Z"
   },
   {
    "duration": 223,
    "start_time": "2021-09-07T17:54:09.935Z"
   },
   {
    "duration": 21,
    "start_time": "2021-09-07T17:54:10.161Z"
   },
   {
    "duration": 213,
    "start_time": "2021-09-07T17:54:10.184Z"
   },
   {
    "duration": 12,
    "start_time": "2021-09-07T17:54:10.399Z"
   },
   {
    "duration": 219,
    "start_time": "2021-09-07T17:54:10.413Z"
   },
   {
    "duration": 12,
    "start_time": "2021-09-07T17:54:10.691Z"
   },
   {
    "duration": 137,
    "start_time": "2021-09-07T17:54:10.851Z"
   },
   {
    "duration": 3,
    "start_time": "2021-09-07T17:55:58.142Z"
   },
   {
    "duration": 40,
    "start_time": "2021-09-07T17:55:58.174Z"
   },
   {
    "duration": 53,
    "start_time": "2021-09-07T17:55:58.237Z"
   },
   {
    "duration": 20,
    "start_time": "2021-09-07T17:55:58.291Z"
   },
   {
    "duration": 12,
    "start_time": "2021-09-07T17:55:58.343Z"
   },
   {
    "duration": 11,
    "start_time": "2021-09-07T17:55:58.438Z"
   },
   {
    "duration": 6,
    "start_time": "2021-09-07T17:55:58.469Z"
   },
   {
    "duration": 6,
    "start_time": "2021-09-07T17:55:58.500Z"
   },
   {
    "duration": 5,
    "start_time": "2021-09-07T17:55:58.609Z"
   },
   {
    "duration": 10,
    "start_time": "2021-09-07T17:55:58.640Z"
   },
   {
    "duration": 4,
    "start_time": "2021-09-07T17:55:58.672Z"
   },
   {
    "duration": 3,
    "start_time": "2021-09-07T17:55:58.733Z"
   },
   {
    "duration": 64,
    "start_time": "2021-09-07T17:55:58.765Z"
   },
   {
    "duration": 3,
    "start_time": "2021-09-07T17:55:58.830Z"
   },
   {
    "duration": 12,
    "start_time": "2021-09-07T17:55:59.274Z"
   },
   {
    "duration": 8,
    "start_time": "2021-09-07T17:55:59.883Z"
   },
   {
    "duration": 17,
    "start_time": "2021-09-07T17:55:59.946Z"
   },
   {
    "duration": 7,
    "start_time": "2021-09-07T17:55:59.978Z"
   },
   {
    "duration": 19,
    "start_time": "2021-09-07T17:56:00.040Z"
   },
   {
    "duration": 18,
    "start_time": "2021-09-07T17:56:00.073Z"
   },
   {
    "duration": 26,
    "start_time": "2021-09-07T17:56:00.109Z"
   },
   {
    "duration": 28,
    "start_time": "2021-09-07T17:56:00.183Z"
   },
   {
    "duration": 8,
    "start_time": "2021-09-07T17:56:00.277Z"
   },
   {
    "duration": 5413,
    "start_time": "2021-09-07T17:56:00.341Z"
   },
   {
    "duration": 27,
    "start_time": "2021-09-07T17:56:05.756Z"
   },
   {
    "duration": 8,
    "start_time": "2021-09-07T17:56:05.785Z"
   },
   {
    "duration": 7,
    "start_time": "2021-09-07T17:56:05.794Z"
   },
   {
    "duration": 9,
    "start_time": "2021-09-07T17:56:05.802Z"
   },
   {
    "duration": 16,
    "start_time": "2021-09-07T17:56:05.812Z"
   },
   {
    "duration": 11,
    "start_time": "2021-09-07T17:56:05.829Z"
   },
   {
    "duration": 193,
    "start_time": "2021-09-07T17:56:05.878Z"
   },
   {
    "duration": 13,
    "start_time": "2021-09-07T17:56:06.077Z"
   },
   {
    "duration": 219,
    "start_time": "2021-09-07T17:56:06.092Z"
   },
   {
    "duration": 11,
    "start_time": "2021-09-07T17:56:06.313Z"
   },
   {
    "duration": 214,
    "start_time": "2021-09-07T17:56:06.325Z"
   },
   {
    "duration": 10,
    "start_time": "2021-09-07T17:56:06.541Z"
   },
   {
    "duration": 155,
    "start_time": "2021-09-07T17:56:06.553Z"
   },
   {
    "duration": 190,
    "start_time": "2021-09-07T17:56:25.370Z"
   },
   {
    "duration": 190,
    "start_time": "2021-09-07T17:56:39.146Z"
   },
   {
    "duration": 188,
    "start_time": "2021-09-07T17:56:52.906Z"
   }
  ],
  "kernelspec": {
   "display_name": "Python 3",
   "language": "python",
   "name": "python3"
  },
  "language_info": {
   "codemirror_mode": {
    "name": "ipython",
    "version": 3
   },
   "file_extension": ".py",
   "mimetype": "text/x-python",
   "name": "python",
   "nbconvert_exporter": "python",
   "pygments_lexer": "ipython3",
   "version": "3.7.8"
  },
  "toc": {
   "base_numbering": 1,
   "nav_menu": {},
   "number_sections": true,
   "sideBar": true,
   "skip_h1_title": true,
   "title_cell": "Table of Contents",
   "title_sidebar": "Contents",
   "toc_cell": false,
   "toc_position": {},
   "toc_section_display": true,
   "toc_window_display": false
  }
 },
 "nbformat": 4,
 "nbformat_minor": 4
}
